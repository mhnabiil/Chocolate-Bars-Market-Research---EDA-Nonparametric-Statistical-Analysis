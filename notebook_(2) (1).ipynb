{
  "cells": [
    {
      "source": [
        "# Finding the best chocolate bars\n",
        "\n",
        "Now let's now move on to the competition and challenge.\n",
        "\n",
        "## 📖 Background\n",
        "You work at a specialty foods import company that wants to expand into gourmet chocolate bars. Your boss needs your team to research this market to inform your initial approach to potential suppliers.\n",
        "\n",
        "After finding valuable chocolate bar ratings online, you need to explore if the chocolate bars with the highest ratings share any characteristics that could help you narrow your search for suppliers (e.g., cacao percentage, bean country of origin, etc.)"
      ],
      "metadata": {
        "id": "f8b70d12"
      },
      "id": "f8b70d12",
      "cell_type": "markdown"
    },
    {
      "source": [],
      "metadata": {
        "id": "3c598dfb-93f7-40a1-aa83-90b852cfda17"
      },
      "id": "3c598dfb-93f7-40a1-aa83-90b852cfda17",
      "cell_type": "code",
      "execution_count": null,
      "outputs": []
    },
    {
      "source": [
        "## 💾 The data\n",
        "\n",
        "#### Your team created a file with the following information ([source](https://flavorsofcacao.com)):\n",
        "- \"id\" - id number of the review\n",
        "- \"manufacturer\" - Name of the bar manufacturer\n",
        "- \"company_location\" - Location of the manufacturer\n",
        "- \"year_reviewed\" - From 2006 to 2021\n",
        "- \"bean_origin\" - Country of origin of the cacao beans\n",
        "- \"bar_name\" - Name of the chocolate bar\n",
        "- \"cocoa_percent\" - Cocoa content of the bar (%)\n",
        "- \"num_ingredients\" - Number of ingredients\n",
        "- \"ingredients\" - B (Beans), S (Sugar), S* (Sweetener other than sugar or beet sugar), C (Cocoa Butter), (V) Vanilla, (L) Lecithin, (Sa) Salt\n",
        "- \"review\" - Summary of most memorable characteristics of the chocolate bar\n",
        "- \"rating\" - 1.0-1.9 Unpleasant, 2.0-2.9 Disappointing, 3.0-3.49 Recommended, 3.5-3.9 Highly Recommended, 4.0-5.0 Oustanding\n",
        "\n",
        "***Acknowledgments**: Brady Brelinski, Manhattan Chocolate Society*"
      ],
      "metadata": {
        "id": "bb4cd736"
      },
      "id": "bb4cd736",
      "cell_type": "markdown"
    },
    {
      "source": [
        "## 💪 Challenge\n",
        "Create a report to summarize your research. Include:\n",
        "\n",
        "1. What is the average rating by country of origin?\n",
        "2. How many bars were reviewed for each of those countries?\n",
        "3. Create plots to visualize findings for questions 1 and 2.\n",
        "4. Is the cacao bean's origin an indicator of quality? \n",
        "5. [Optional] How does cocoa content relate to rating? What is the average cocoa content for bars with higher ratings (above 3.5)?\n",
        "6. [Optional 2] Your research indicates that some consumers want to avoid bars with lecithin. Compare the average rating of bars with and without lecithin (L in the ingredients).\n",
        "7. Summarize your findings."
      ],
      "metadata": {
        "id": "6c0744d0"
      },
      "id": "6c0744d0",
      "cell_type": "markdown"
    },
    {
      "source": [
        "## Importing Libraries and Data"
      ],
      "metadata": {
        "id": "bac9f6fc-35a2-4081-98d8-0f4888a60f69"
      },
      "id": "bac9f6fc-35a2-4081-98d8-0f4888a60f69",
      "cell_type": "markdown"
    },
    {
      "source": [
        "# Importing the pandas module\n",
        "import pandas as pd\n",
        "import seaborn as sns\n",
        "import matplotlib.pyplot as plt\n",
        "import numpy as np\n",
        "\n",
        "# Read the data\n",
        "df = pd.read_csv('/content/chocolate_bars.csv')\n",
        "\n",
        "# Take a look at the first 5 rows of the data\n",
        "display(df.head())"
      ],
      "metadata": {
        "colab": {
          "base_uri": "https://localhost:8080/",
          "height": 319
        },
        "id": "bedae17d-53a2-46fb-8ef2-ba43cac1abec",
        "outputId": "0c7cf271-9714-4574-a737-1bbacfb236d9"
      },
      "id": "bedae17d-53a2-46fb-8ef2-ba43cac1abec",
      "cell_type": "code",
      "execution_count": 1,
      "outputs": [
        {
          "output_type": "display_data",
          "data": {
            "text/plain": [
              "     id manufacturer company_location  year_reviewed         bean_origin  \\\n",
              "0  2454         5150           U.S.A.           2019            Tanzania   \n",
              "1  2458         5150           U.S.A.           2019  Dominican Republic   \n",
              "2  2454         5150           U.S.A.           2019          Madagascar   \n",
              "3  2542         5150           U.S.A.           2021                Fiji   \n",
              "4  2546         5150           U.S.A.           2021           Venezuela   \n",
              "\n",
              "                 bar_name  cocoa_percent  num_ingredients ingredients  \\\n",
              "0   Kokoa Kamili, batch 1           76.0              3.0       B,S,C   \n",
              "1         Zorzal, batch 1           76.0              3.0       B,S,C   \n",
              "2  Bejofo Estate, batch 1           76.0              3.0       B,S,C   \n",
              "3   Matasawalevu, batch 1           68.0              3.0       B,S,C   \n",
              "4   Sur del Lago, batch 1           72.0              3.0       B,S,C   \n",
              "\n",
              "                              review  rating  \n",
              "0          rich cocoa, fatty, bready    3.25  \n",
              "1             cocoa, vegetal, savory    3.50  \n",
              "2       cocoa, blackberry, full body    3.75  \n",
              "3                chewy, off, rubbery    3.00  \n",
              "4  fatty, earthy, moss, nutty,chalky    3.00  "
            ],
            "text/html": [
              "\n",
              "  <div id=\"df-f8e1ce1d-8389-4d1d-ba83-fc7c2cef90ff\">\n",
              "    <div class=\"colab-df-container\">\n",
              "      <div>\n",
              "<style scoped>\n",
              "    .dataframe tbody tr th:only-of-type {\n",
              "        vertical-align: middle;\n",
              "    }\n",
              "\n",
              "    .dataframe tbody tr th {\n",
              "        vertical-align: top;\n",
              "    }\n",
              "\n",
              "    .dataframe thead th {\n",
              "        text-align: right;\n",
              "    }\n",
              "</style>\n",
              "<table border=\"1\" class=\"dataframe\">\n",
              "  <thead>\n",
              "    <tr style=\"text-align: right;\">\n",
              "      <th></th>\n",
              "      <th>id</th>\n",
              "      <th>manufacturer</th>\n",
              "      <th>company_location</th>\n",
              "      <th>year_reviewed</th>\n",
              "      <th>bean_origin</th>\n",
              "      <th>bar_name</th>\n",
              "      <th>cocoa_percent</th>\n",
              "      <th>num_ingredients</th>\n",
              "      <th>ingredients</th>\n",
              "      <th>review</th>\n",
              "      <th>rating</th>\n",
              "    </tr>\n",
              "  </thead>\n",
              "  <tbody>\n",
              "    <tr>\n",
              "      <th>0</th>\n",
              "      <td>2454</td>\n",
              "      <td>5150</td>\n",
              "      <td>U.S.A.</td>\n",
              "      <td>2019</td>\n",
              "      <td>Tanzania</td>\n",
              "      <td>Kokoa Kamili, batch 1</td>\n",
              "      <td>76.0</td>\n",
              "      <td>3.0</td>\n",
              "      <td>B,S,C</td>\n",
              "      <td>rich cocoa, fatty, bready</td>\n",
              "      <td>3.25</td>\n",
              "    </tr>\n",
              "    <tr>\n",
              "      <th>1</th>\n",
              "      <td>2458</td>\n",
              "      <td>5150</td>\n",
              "      <td>U.S.A.</td>\n",
              "      <td>2019</td>\n",
              "      <td>Dominican Republic</td>\n",
              "      <td>Zorzal, batch 1</td>\n",
              "      <td>76.0</td>\n",
              "      <td>3.0</td>\n",
              "      <td>B,S,C</td>\n",
              "      <td>cocoa, vegetal, savory</td>\n",
              "      <td>3.50</td>\n",
              "    </tr>\n",
              "    <tr>\n",
              "      <th>2</th>\n",
              "      <td>2454</td>\n",
              "      <td>5150</td>\n",
              "      <td>U.S.A.</td>\n",
              "      <td>2019</td>\n",
              "      <td>Madagascar</td>\n",
              "      <td>Bejofo Estate, batch 1</td>\n",
              "      <td>76.0</td>\n",
              "      <td>3.0</td>\n",
              "      <td>B,S,C</td>\n",
              "      <td>cocoa, blackberry, full body</td>\n",
              "      <td>3.75</td>\n",
              "    </tr>\n",
              "    <tr>\n",
              "      <th>3</th>\n",
              "      <td>2542</td>\n",
              "      <td>5150</td>\n",
              "      <td>U.S.A.</td>\n",
              "      <td>2021</td>\n",
              "      <td>Fiji</td>\n",
              "      <td>Matasawalevu, batch 1</td>\n",
              "      <td>68.0</td>\n",
              "      <td>3.0</td>\n",
              "      <td>B,S,C</td>\n",
              "      <td>chewy, off, rubbery</td>\n",
              "      <td>3.00</td>\n",
              "    </tr>\n",
              "    <tr>\n",
              "      <th>4</th>\n",
              "      <td>2546</td>\n",
              "      <td>5150</td>\n",
              "      <td>U.S.A.</td>\n",
              "      <td>2021</td>\n",
              "      <td>Venezuela</td>\n",
              "      <td>Sur del Lago, batch 1</td>\n",
              "      <td>72.0</td>\n",
              "      <td>3.0</td>\n",
              "      <td>B,S,C</td>\n",
              "      <td>fatty, earthy, moss, nutty,chalky</td>\n",
              "      <td>3.00</td>\n",
              "    </tr>\n",
              "  </tbody>\n",
              "</table>\n",
              "</div>\n",
              "      <button class=\"colab-df-convert\" onclick=\"convertToInteractive('df-f8e1ce1d-8389-4d1d-ba83-fc7c2cef90ff')\"\n",
              "              title=\"Convert this dataframe to an interactive table.\"\n",
              "              style=\"display:none;\">\n",
              "        \n",
              "  <svg xmlns=\"http://www.w3.org/2000/svg\" height=\"24px\"viewBox=\"0 0 24 24\"\n",
              "       width=\"24px\">\n",
              "    <path d=\"M0 0h24v24H0V0z\" fill=\"none\"/>\n",
              "    <path d=\"M18.56 5.44l.94 2.06.94-2.06 2.06-.94-2.06-.94-.94-2.06-.94 2.06-2.06.94zm-11 1L8.5 8.5l.94-2.06 2.06-.94-2.06-.94L8.5 2.5l-.94 2.06-2.06.94zm10 10l.94 2.06.94-2.06 2.06-.94-2.06-.94-.94-2.06-.94 2.06-2.06.94z\"/><path d=\"M17.41 7.96l-1.37-1.37c-.4-.4-.92-.59-1.43-.59-.52 0-1.04.2-1.43.59L10.3 9.45l-7.72 7.72c-.78.78-.78 2.05 0 2.83L4 21.41c.39.39.9.59 1.41.59.51 0 1.02-.2 1.41-.59l7.78-7.78 2.81-2.81c.8-.78.8-2.07 0-2.86zM5.41 20L4 18.59l7.72-7.72 1.47 1.35L5.41 20z\"/>\n",
              "  </svg>\n",
              "      </button>\n",
              "      \n",
              "  <style>\n",
              "    .colab-df-container {\n",
              "      display:flex;\n",
              "      flex-wrap:wrap;\n",
              "      gap: 12px;\n",
              "    }\n",
              "\n",
              "    .colab-df-convert {\n",
              "      background-color: #E8F0FE;\n",
              "      border: none;\n",
              "      border-radius: 50%;\n",
              "      cursor: pointer;\n",
              "      display: none;\n",
              "      fill: #1967D2;\n",
              "      height: 32px;\n",
              "      padding: 0 0 0 0;\n",
              "      width: 32px;\n",
              "    }\n",
              "\n",
              "    .colab-df-convert:hover {\n",
              "      background-color: #E2EBFA;\n",
              "      box-shadow: 0px 1px 2px rgba(60, 64, 67, 0.3), 0px 1px 3px 1px rgba(60, 64, 67, 0.15);\n",
              "      fill: #174EA6;\n",
              "    }\n",
              "\n",
              "    [theme=dark] .colab-df-convert {\n",
              "      background-color: #3B4455;\n",
              "      fill: #D2E3FC;\n",
              "    }\n",
              "\n",
              "    [theme=dark] .colab-df-convert:hover {\n",
              "      background-color: #434B5C;\n",
              "      box-shadow: 0px 1px 3px 1px rgba(0, 0, 0, 0.15);\n",
              "      filter: drop-shadow(0px 1px 2px rgba(0, 0, 0, 0.3));\n",
              "      fill: #FFFFFF;\n",
              "    }\n",
              "  </style>\n",
              "\n",
              "      <script>\n",
              "        const buttonEl =\n",
              "          document.querySelector('#df-f8e1ce1d-8389-4d1d-ba83-fc7c2cef90ff button.colab-df-convert');\n",
              "        buttonEl.style.display =\n",
              "          google.colab.kernel.accessAllowed ? 'block' : 'none';\n",
              "\n",
              "        async function convertToInteractive(key) {\n",
              "          const element = document.querySelector('#df-f8e1ce1d-8389-4d1d-ba83-fc7c2cef90ff');\n",
              "          const dataTable =\n",
              "            await google.colab.kernel.invokeFunction('convertToInteractive',\n",
              "                                                     [key], {});\n",
              "          if (!dataTable) return;\n",
              "\n",
              "          const docLinkHtml = 'Like what you see? Visit the ' +\n",
              "            '<a target=\"_blank\" href=https://colab.research.google.com/notebooks/data_table.ipynb>data table notebook</a>'\n",
              "            + ' to learn more about interactive tables.';\n",
              "          element.innerHTML = '';\n",
              "          dataTable['output_type'] = 'display_data';\n",
              "          await google.colab.output.renderOutput(dataTable, element);\n",
              "          const docLink = document.createElement('div');\n",
              "          docLink.innerHTML = docLinkHtml;\n",
              "          element.appendChild(docLink);\n",
              "        }\n",
              "      </script>\n",
              "    </div>\n",
              "  </div>\n",
              "  "
            ]
          },
          "metadata": {}
        }
      ]
    },
    {
      "source": [
        "## Data Understanding"
      ],
      "metadata": {
        "id": "6d400849-c1c0-425c-8ae5-6dafeff52f2e"
      },
      "id": "6d400849-c1c0-425c-8ae5-6dafeff52f2e",
      "cell_type": "markdown"
    },
    {
      "source": [
        "df.shape"
      ],
      "metadata": {
        "id": "5324f919-b4b7-456c-92d5-59b850bcb3a0",
        "outputId": "180124cd-cefc-4a32-d619-7732f5b27e54",
        "colab": {
          "base_uri": "https://localhost:8080/"
        }
      },
      "id": "5324f919-b4b7-456c-92d5-59b850bcb3a0",
      "cell_type": "code",
      "execution_count": 2,
      "outputs": [
        {
          "output_type": "execute_result",
          "data": {
            "text/plain": [
              "(2530, 11)"
            ]
          },
          "metadata": {},
          "execution_count": 2
        }
      ]
    },
    {
      "source": [
        "df.info()"
      ],
      "metadata": {
        "id": "49408104-618e-4a44-893d-77b595802e6a",
        "outputId": "bac213a1-d65d-4ea3-bf72-1a5c0c73dbac",
        "colab": {
          "base_uri": "https://localhost:8080/"
        }
      },
      "id": "49408104-618e-4a44-893d-77b595802e6a",
      "cell_type": "code",
      "execution_count": 3,
      "outputs": [
        {
          "output_type": "stream",
          "name": "stdout",
          "text": [
            "<class 'pandas.core.frame.DataFrame'>\n",
            "RangeIndex: 2530 entries, 0 to 2529\n",
            "Data columns (total 11 columns):\n",
            " #   Column            Non-Null Count  Dtype  \n",
            "---  ------            --------------  -----  \n",
            " 0   id                2530 non-null   int64  \n",
            " 1   manufacturer      2530 non-null   object \n",
            " 2   company_location  2530 non-null   object \n",
            " 3   year_reviewed     2530 non-null   int64  \n",
            " 4   bean_origin       2530 non-null   object \n",
            " 5   bar_name          2530 non-null   object \n",
            " 6   cocoa_percent     2530 non-null   float64\n",
            " 7   num_ingredients   2443 non-null   float64\n",
            " 8   ingredients       2443 non-null   object \n",
            " 9   review            2530 non-null   object \n",
            " 10  rating            2530 non-null   float64\n",
            "dtypes: float64(3), int64(2), object(6)\n",
            "memory usage: 217.5+ KB\n"
          ]
        }
      ]
    },
    {
      "source": [
        "df.describe()"
      ],
      "metadata": {
        "id": "e74b035c-8686-4cad-9518-2512dabbb7e2",
        "outputId": "f00b111e-7780-462b-d9dc-dda34483cfa4",
        "colab": {
          "base_uri": "https://localhost:8080/",
          "height": 300
        }
      },
      "id": "e74b035c-8686-4cad-9518-2512dabbb7e2",
      "cell_type": "code",
      "execution_count": 4,
      "outputs": [
        {
          "output_type": "execute_result",
          "data": {
            "text/plain": [
              "                id  year_reviewed  cocoa_percent  num_ingredients       rating\n",
              "count  2530.000000    2530.000000    2530.000000      2443.000000  2530.000000\n",
              "mean   1429.800791    2014.374308      71.639723         3.041343     3.196344\n",
              "std     757.648556       3.968267       5.616724         0.913728     0.445321\n",
              "min       5.000000    2006.000000      42.000000         1.000000     1.000000\n",
              "25%     802.000000    2012.000000      70.000000         2.000000     3.000000\n",
              "50%    1454.000000    2015.000000      70.000000         3.000000     3.250000\n",
              "75%    2079.000000    2018.000000      74.000000         4.000000     3.500000\n",
              "max    2712.000000    2021.000000     100.000000         6.000000     4.000000"
            ],
            "text/html": [
              "\n",
              "  <div id=\"df-a40d3b3e-0a7b-41c0-9fb1-817a844c2789\">\n",
              "    <div class=\"colab-df-container\">\n",
              "      <div>\n",
              "<style scoped>\n",
              "    .dataframe tbody tr th:only-of-type {\n",
              "        vertical-align: middle;\n",
              "    }\n",
              "\n",
              "    .dataframe tbody tr th {\n",
              "        vertical-align: top;\n",
              "    }\n",
              "\n",
              "    .dataframe thead th {\n",
              "        text-align: right;\n",
              "    }\n",
              "</style>\n",
              "<table border=\"1\" class=\"dataframe\">\n",
              "  <thead>\n",
              "    <tr style=\"text-align: right;\">\n",
              "      <th></th>\n",
              "      <th>id</th>\n",
              "      <th>year_reviewed</th>\n",
              "      <th>cocoa_percent</th>\n",
              "      <th>num_ingredients</th>\n",
              "      <th>rating</th>\n",
              "    </tr>\n",
              "  </thead>\n",
              "  <tbody>\n",
              "    <tr>\n",
              "      <th>count</th>\n",
              "      <td>2530.000000</td>\n",
              "      <td>2530.000000</td>\n",
              "      <td>2530.000000</td>\n",
              "      <td>2443.000000</td>\n",
              "      <td>2530.000000</td>\n",
              "    </tr>\n",
              "    <tr>\n",
              "      <th>mean</th>\n",
              "      <td>1429.800791</td>\n",
              "      <td>2014.374308</td>\n",
              "      <td>71.639723</td>\n",
              "      <td>3.041343</td>\n",
              "      <td>3.196344</td>\n",
              "    </tr>\n",
              "    <tr>\n",
              "      <th>std</th>\n",
              "      <td>757.648556</td>\n",
              "      <td>3.968267</td>\n",
              "      <td>5.616724</td>\n",
              "      <td>0.913728</td>\n",
              "      <td>0.445321</td>\n",
              "    </tr>\n",
              "    <tr>\n",
              "      <th>min</th>\n",
              "      <td>5.000000</td>\n",
              "      <td>2006.000000</td>\n",
              "      <td>42.000000</td>\n",
              "      <td>1.000000</td>\n",
              "      <td>1.000000</td>\n",
              "    </tr>\n",
              "    <tr>\n",
              "      <th>25%</th>\n",
              "      <td>802.000000</td>\n",
              "      <td>2012.000000</td>\n",
              "      <td>70.000000</td>\n",
              "      <td>2.000000</td>\n",
              "      <td>3.000000</td>\n",
              "    </tr>\n",
              "    <tr>\n",
              "      <th>50%</th>\n",
              "      <td>1454.000000</td>\n",
              "      <td>2015.000000</td>\n",
              "      <td>70.000000</td>\n",
              "      <td>3.000000</td>\n",
              "      <td>3.250000</td>\n",
              "    </tr>\n",
              "    <tr>\n",
              "      <th>75%</th>\n",
              "      <td>2079.000000</td>\n",
              "      <td>2018.000000</td>\n",
              "      <td>74.000000</td>\n",
              "      <td>4.000000</td>\n",
              "      <td>3.500000</td>\n",
              "    </tr>\n",
              "    <tr>\n",
              "      <th>max</th>\n",
              "      <td>2712.000000</td>\n",
              "      <td>2021.000000</td>\n",
              "      <td>100.000000</td>\n",
              "      <td>6.000000</td>\n",
              "      <td>4.000000</td>\n",
              "    </tr>\n",
              "  </tbody>\n",
              "</table>\n",
              "</div>\n",
              "      <button class=\"colab-df-convert\" onclick=\"convertToInteractive('df-a40d3b3e-0a7b-41c0-9fb1-817a844c2789')\"\n",
              "              title=\"Convert this dataframe to an interactive table.\"\n",
              "              style=\"display:none;\">\n",
              "        \n",
              "  <svg xmlns=\"http://www.w3.org/2000/svg\" height=\"24px\"viewBox=\"0 0 24 24\"\n",
              "       width=\"24px\">\n",
              "    <path d=\"M0 0h24v24H0V0z\" fill=\"none\"/>\n",
              "    <path d=\"M18.56 5.44l.94 2.06.94-2.06 2.06-.94-2.06-.94-.94-2.06-.94 2.06-2.06.94zm-11 1L8.5 8.5l.94-2.06 2.06-.94-2.06-.94L8.5 2.5l-.94 2.06-2.06.94zm10 10l.94 2.06.94-2.06 2.06-.94-2.06-.94-.94-2.06-.94 2.06-2.06.94z\"/><path d=\"M17.41 7.96l-1.37-1.37c-.4-.4-.92-.59-1.43-.59-.52 0-1.04.2-1.43.59L10.3 9.45l-7.72 7.72c-.78.78-.78 2.05 0 2.83L4 21.41c.39.39.9.59 1.41.59.51 0 1.02-.2 1.41-.59l7.78-7.78 2.81-2.81c.8-.78.8-2.07 0-2.86zM5.41 20L4 18.59l7.72-7.72 1.47 1.35L5.41 20z\"/>\n",
              "  </svg>\n",
              "      </button>\n",
              "      \n",
              "  <style>\n",
              "    .colab-df-container {\n",
              "      display:flex;\n",
              "      flex-wrap:wrap;\n",
              "      gap: 12px;\n",
              "    }\n",
              "\n",
              "    .colab-df-convert {\n",
              "      background-color: #E8F0FE;\n",
              "      border: none;\n",
              "      border-radius: 50%;\n",
              "      cursor: pointer;\n",
              "      display: none;\n",
              "      fill: #1967D2;\n",
              "      height: 32px;\n",
              "      padding: 0 0 0 0;\n",
              "      width: 32px;\n",
              "    }\n",
              "\n",
              "    .colab-df-convert:hover {\n",
              "      background-color: #E2EBFA;\n",
              "      box-shadow: 0px 1px 2px rgba(60, 64, 67, 0.3), 0px 1px 3px 1px rgba(60, 64, 67, 0.15);\n",
              "      fill: #174EA6;\n",
              "    }\n",
              "\n",
              "    [theme=dark] .colab-df-convert {\n",
              "      background-color: #3B4455;\n",
              "      fill: #D2E3FC;\n",
              "    }\n",
              "\n",
              "    [theme=dark] .colab-df-convert:hover {\n",
              "      background-color: #434B5C;\n",
              "      box-shadow: 0px 1px 3px 1px rgba(0, 0, 0, 0.15);\n",
              "      filter: drop-shadow(0px 1px 2px rgba(0, 0, 0, 0.3));\n",
              "      fill: #FFFFFF;\n",
              "    }\n",
              "  </style>\n",
              "\n",
              "      <script>\n",
              "        const buttonEl =\n",
              "          document.querySelector('#df-a40d3b3e-0a7b-41c0-9fb1-817a844c2789 button.colab-df-convert');\n",
              "        buttonEl.style.display =\n",
              "          google.colab.kernel.accessAllowed ? 'block' : 'none';\n",
              "\n",
              "        async function convertToInteractive(key) {\n",
              "          const element = document.querySelector('#df-a40d3b3e-0a7b-41c0-9fb1-817a844c2789');\n",
              "          const dataTable =\n",
              "            await google.colab.kernel.invokeFunction('convertToInteractive',\n",
              "                                                     [key], {});\n",
              "          if (!dataTable) return;\n",
              "\n",
              "          const docLinkHtml = 'Like what you see? Visit the ' +\n",
              "            '<a target=\"_blank\" href=https://colab.research.google.com/notebooks/data_table.ipynb>data table notebook</a>'\n",
              "            + ' to learn more about interactive tables.';\n",
              "          element.innerHTML = '';\n",
              "          dataTable['output_type'] = 'display_data';\n",
              "          await google.colab.output.renderOutput(dataTable, element);\n",
              "          const docLink = document.createElement('div');\n",
              "          docLink.innerHTML = docLinkHtml;\n",
              "          element.appendChild(docLink);\n",
              "        }\n",
              "      </script>\n",
              "    </div>\n",
              "  </div>\n",
              "  "
            ]
          },
          "metadata": {},
          "execution_count": 4
        }
      ]
    },
    {
      "source": [
        "#Creating rating class based on existing criteria\n",
        "def func(row):\n",
        "    if (row['rating'] >= 1.0 and row['rating'] < 2.0):\n",
        "        return 'Unpleasent'\n",
        "    elif (row['rating'] >= 2.0 and row['rating'] < 3.0):\n",
        "        return 'Disappointing'\n",
        "    elif (row['rating'] >= 3.0 and row['rating'] < 3.5):\n",
        "        return 'Recommended'\n",
        "    elif (row['rating'] >= 3.5 and row['rating'] < 4.0):\n",
        "        return 'Highly Recommended'\n",
        "    else: return 'Outstanding'\n",
        "    return row['rating']\n",
        "\n",
        "df['rats'] = df.apply(func, axis=1)"
      ],
      "metadata": {
        "id": "da7604ee-6f8b-414d-9211-ccc5d1cdc4f3"
      },
      "id": "da7604ee-6f8b-414d-9211-ccc5d1cdc4f3",
      "cell_type": "code",
      "execution_count": 5,
      "outputs": []
    },
    {
      "source": [
        "df.head()"
      ],
      "metadata": {
        "colab": {
          "base_uri": "https://localhost:8080/",
          "height": 372
        },
        "id": "e0857141-e30c-4fb9-9567-579845ad40bb",
        "outputId": "23d9de93-5ce5-4eb2-8529-bde54d6d065d"
      },
      "id": "e0857141-e30c-4fb9-9567-579845ad40bb",
      "cell_type": "code",
      "execution_count": 6,
      "outputs": [
        {
          "output_type": "execute_result",
          "data": {
            "text/plain": [
              "     id manufacturer company_location  year_reviewed         bean_origin  \\\n",
              "0  2454         5150           U.S.A.           2019            Tanzania   \n",
              "1  2458         5150           U.S.A.           2019  Dominican Republic   \n",
              "2  2454         5150           U.S.A.           2019          Madagascar   \n",
              "3  2542         5150           U.S.A.           2021                Fiji   \n",
              "4  2546         5150           U.S.A.           2021           Venezuela   \n",
              "\n",
              "                 bar_name  cocoa_percent  num_ingredients ingredients  \\\n",
              "0   Kokoa Kamili, batch 1           76.0              3.0       B,S,C   \n",
              "1         Zorzal, batch 1           76.0              3.0       B,S,C   \n",
              "2  Bejofo Estate, batch 1           76.0              3.0       B,S,C   \n",
              "3   Matasawalevu, batch 1           68.0              3.0       B,S,C   \n",
              "4   Sur del Lago, batch 1           72.0              3.0       B,S,C   \n",
              "\n",
              "                              review  rating                rats  \n",
              "0          rich cocoa, fatty, bready    3.25         Recommended  \n",
              "1             cocoa, vegetal, savory    3.50  Highly Recommended  \n",
              "2       cocoa, blackberry, full body    3.75  Highly Recommended  \n",
              "3                chewy, off, rubbery    3.00         Recommended  \n",
              "4  fatty, earthy, moss, nutty,chalky    3.00         Recommended  "
            ],
            "text/html": [
              "\n",
              "  <div id=\"df-21c048ca-7a75-4b90-86c4-3f6f299db4de\">\n",
              "    <div class=\"colab-df-container\">\n",
              "      <div>\n",
              "<style scoped>\n",
              "    .dataframe tbody tr th:only-of-type {\n",
              "        vertical-align: middle;\n",
              "    }\n",
              "\n",
              "    .dataframe tbody tr th {\n",
              "        vertical-align: top;\n",
              "    }\n",
              "\n",
              "    .dataframe thead th {\n",
              "        text-align: right;\n",
              "    }\n",
              "</style>\n",
              "<table border=\"1\" class=\"dataframe\">\n",
              "  <thead>\n",
              "    <tr style=\"text-align: right;\">\n",
              "      <th></th>\n",
              "      <th>id</th>\n",
              "      <th>manufacturer</th>\n",
              "      <th>company_location</th>\n",
              "      <th>year_reviewed</th>\n",
              "      <th>bean_origin</th>\n",
              "      <th>bar_name</th>\n",
              "      <th>cocoa_percent</th>\n",
              "      <th>num_ingredients</th>\n",
              "      <th>ingredients</th>\n",
              "      <th>review</th>\n",
              "      <th>rating</th>\n",
              "      <th>rats</th>\n",
              "    </tr>\n",
              "  </thead>\n",
              "  <tbody>\n",
              "    <tr>\n",
              "      <th>0</th>\n",
              "      <td>2454</td>\n",
              "      <td>5150</td>\n",
              "      <td>U.S.A.</td>\n",
              "      <td>2019</td>\n",
              "      <td>Tanzania</td>\n",
              "      <td>Kokoa Kamili, batch 1</td>\n",
              "      <td>76.0</td>\n",
              "      <td>3.0</td>\n",
              "      <td>B,S,C</td>\n",
              "      <td>rich cocoa, fatty, bready</td>\n",
              "      <td>3.25</td>\n",
              "      <td>Recommended</td>\n",
              "    </tr>\n",
              "    <tr>\n",
              "      <th>1</th>\n",
              "      <td>2458</td>\n",
              "      <td>5150</td>\n",
              "      <td>U.S.A.</td>\n",
              "      <td>2019</td>\n",
              "      <td>Dominican Republic</td>\n",
              "      <td>Zorzal, batch 1</td>\n",
              "      <td>76.0</td>\n",
              "      <td>3.0</td>\n",
              "      <td>B,S,C</td>\n",
              "      <td>cocoa, vegetal, savory</td>\n",
              "      <td>3.50</td>\n",
              "      <td>Highly Recommended</td>\n",
              "    </tr>\n",
              "    <tr>\n",
              "      <th>2</th>\n",
              "      <td>2454</td>\n",
              "      <td>5150</td>\n",
              "      <td>U.S.A.</td>\n",
              "      <td>2019</td>\n",
              "      <td>Madagascar</td>\n",
              "      <td>Bejofo Estate, batch 1</td>\n",
              "      <td>76.0</td>\n",
              "      <td>3.0</td>\n",
              "      <td>B,S,C</td>\n",
              "      <td>cocoa, blackberry, full body</td>\n",
              "      <td>3.75</td>\n",
              "      <td>Highly Recommended</td>\n",
              "    </tr>\n",
              "    <tr>\n",
              "      <th>3</th>\n",
              "      <td>2542</td>\n",
              "      <td>5150</td>\n",
              "      <td>U.S.A.</td>\n",
              "      <td>2021</td>\n",
              "      <td>Fiji</td>\n",
              "      <td>Matasawalevu, batch 1</td>\n",
              "      <td>68.0</td>\n",
              "      <td>3.0</td>\n",
              "      <td>B,S,C</td>\n",
              "      <td>chewy, off, rubbery</td>\n",
              "      <td>3.00</td>\n",
              "      <td>Recommended</td>\n",
              "    </tr>\n",
              "    <tr>\n",
              "      <th>4</th>\n",
              "      <td>2546</td>\n",
              "      <td>5150</td>\n",
              "      <td>U.S.A.</td>\n",
              "      <td>2021</td>\n",
              "      <td>Venezuela</td>\n",
              "      <td>Sur del Lago, batch 1</td>\n",
              "      <td>72.0</td>\n",
              "      <td>3.0</td>\n",
              "      <td>B,S,C</td>\n",
              "      <td>fatty, earthy, moss, nutty,chalky</td>\n",
              "      <td>3.00</td>\n",
              "      <td>Recommended</td>\n",
              "    </tr>\n",
              "  </tbody>\n",
              "</table>\n",
              "</div>\n",
              "      <button class=\"colab-df-convert\" onclick=\"convertToInteractive('df-21c048ca-7a75-4b90-86c4-3f6f299db4de')\"\n",
              "              title=\"Convert this dataframe to an interactive table.\"\n",
              "              style=\"display:none;\">\n",
              "        \n",
              "  <svg xmlns=\"http://www.w3.org/2000/svg\" height=\"24px\"viewBox=\"0 0 24 24\"\n",
              "       width=\"24px\">\n",
              "    <path d=\"M0 0h24v24H0V0z\" fill=\"none\"/>\n",
              "    <path d=\"M18.56 5.44l.94 2.06.94-2.06 2.06-.94-2.06-.94-.94-2.06-.94 2.06-2.06.94zm-11 1L8.5 8.5l.94-2.06 2.06-.94-2.06-.94L8.5 2.5l-.94 2.06-2.06.94zm10 10l.94 2.06.94-2.06 2.06-.94-2.06-.94-.94-2.06-.94 2.06-2.06.94z\"/><path d=\"M17.41 7.96l-1.37-1.37c-.4-.4-.92-.59-1.43-.59-.52 0-1.04.2-1.43.59L10.3 9.45l-7.72 7.72c-.78.78-.78 2.05 0 2.83L4 21.41c.39.39.9.59 1.41.59.51 0 1.02-.2 1.41-.59l7.78-7.78 2.81-2.81c.8-.78.8-2.07 0-2.86zM5.41 20L4 18.59l7.72-7.72 1.47 1.35L5.41 20z\"/>\n",
              "  </svg>\n",
              "      </button>\n",
              "      \n",
              "  <style>\n",
              "    .colab-df-container {\n",
              "      display:flex;\n",
              "      flex-wrap:wrap;\n",
              "      gap: 12px;\n",
              "    }\n",
              "\n",
              "    .colab-df-convert {\n",
              "      background-color: #E8F0FE;\n",
              "      border: none;\n",
              "      border-radius: 50%;\n",
              "      cursor: pointer;\n",
              "      display: none;\n",
              "      fill: #1967D2;\n",
              "      height: 32px;\n",
              "      padding: 0 0 0 0;\n",
              "      width: 32px;\n",
              "    }\n",
              "\n",
              "    .colab-df-convert:hover {\n",
              "      background-color: #E2EBFA;\n",
              "      box-shadow: 0px 1px 2px rgba(60, 64, 67, 0.3), 0px 1px 3px 1px rgba(60, 64, 67, 0.15);\n",
              "      fill: #174EA6;\n",
              "    }\n",
              "\n",
              "    [theme=dark] .colab-df-convert {\n",
              "      background-color: #3B4455;\n",
              "      fill: #D2E3FC;\n",
              "    }\n",
              "\n",
              "    [theme=dark] .colab-df-convert:hover {\n",
              "      background-color: #434B5C;\n",
              "      box-shadow: 0px 1px 3px 1px rgba(0, 0, 0, 0.15);\n",
              "      filter: drop-shadow(0px 1px 2px rgba(0, 0, 0, 0.3));\n",
              "      fill: #FFFFFF;\n",
              "    }\n",
              "  </style>\n",
              "\n",
              "      <script>\n",
              "        const buttonEl =\n",
              "          document.querySelector('#df-21c048ca-7a75-4b90-86c4-3f6f299db4de button.colab-df-convert');\n",
              "        buttonEl.style.display =\n",
              "          google.colab.kernel.accessAllowed ? 'block' : 'none';\n",
              "\n",
              "        async function convertToInteractive(key) {\n",
              "          const element = document.querySelector('#df-21c048ca-7a75-4b90-86c4-3f6f299db4de');\n",
              "          const dataTable =\n",
              "            await google.colab.kernel.invokeFunction('convertToInteractive',\n",
              "                                                     [key], {});\n",
              "          if (!dataTable) return;\n",
              "\n",
              "          const docLinkHtml = 'Like what you see? Visit the ' +\n",
              "            '<a target=\"_blank\" href=https://colab.research.google.com/notebooks/data_table.ipynb>data table notebook</a>'\n",
              "            + ' to learn more about interactive tables.';\n",
              "          element.innerHTML = '';\n",
              "          dataTable['output_type'] = 'display_data';\n",
              "          await google.colab.output.renderOutput(dataTable, element);\n",
              "          const docLink = document.createElement('div');\n",
              "          docLink.innerHTML = docLinkHtml;\n",
              "          element.appendChild(docLink);\n",
              "        }\n",
              "      </script>\n",
              "    </div>\n",
              "  </div>\n",
              "  "
            ]
          },
          "metadata": {},
          "execution_count": 6
        }
      ]
    },
    {
      "source": [
        "#Checking the missing values\n",
        "df.isnull().sum()"
      ],
      "metadata": {
        "colab": {
          "base_uri": "https://localhost:8080/"
        },
        "id": "2cf65fad-250b-4b11-8a67-97d90e745e46",
        "outputId": "1fb62133-62c6-4527-df11-c2e63acd7c18"
      },
      "id": "2cf65fad-250b-4b11-8a67-97d90e745e46",
      "cell_type": "code",
      "execution_count": 7,
      "outputs": [
        {
          "output_type": "execute_result",
          "data": {
            "text/plain": [
              "id                   0\n",
              "manufacturer         0\n",
              "company_location     0\n",
              "year_reviewed        0\n",
              "bean_origin          0\n",
              "bar_name             0\n",
              "cocoa_percent        0\n",
              "num_ingredients     87\n",
              "ingredients         87\n",
              "review               0\n",
              "rating               0\n",
              "rats                 0\n",
              "dtype: int64"
            ]
          },
          "metadata": {},
          "execution_count": 7
        }
      ]
    },
    {
      "source": [
        "#Removing the missing values\n",
        "df.dropna(inplace=True)"
      ],
      "metadata": {
        "id": "040e50bd-cc6e-4e61-86d3-2975b562d67e"
      },
      "id": "040e50bd-cc6e-4e61-86d3-2975b562d67e",
      "cell_type": "code",
      "execution_count": 8,
      "outputs": []
    },
    {
      "source": [
        "## Exploratory Data Analysis (EDA)"
      ],
      "metadata": {
        "id": "ff702040-c919-44b6-8980-45395930c208"
      },
      "id": "ff702040-c919-44b6-8980-45395930c208",
      "cell_type": "markdown"
    },
    {
      "source": [
        "### What is the average rating by country of origin?"
      ],
      "metadata": {
        "id": "4950ff05-0314-46ed-b171-251e3deb7a4b"
      },
      "id": "4950ff05-0314-46ed-b171-251e3deb7a4b",
      "cell_type": "markdown"
    },
    {
      "source": [
        "- we will look at the top 10 countries that have the highest and lowest rating averages"
      ],
      "metadata": {
        "id": "890094ba-1e67-4c26-b1f0-15c6ba669444"
      },
      "id": "890094ba-1e67-4c26-b1f0-15c6ba669444",
      "cell_type": "markdown"
    },
    {
      "source": [
        "high_rat_country = df.groupby('bean_origin')[['rating']].mean().sort_values('rating',ascending=False)[0:10]\n",
        "print('Top 10 Highest Rating Country Origin :')\n",
        "display(high_rat_country.head(10))\n",
        "\n",
        "low_rat_country = df.groupby('bean_origin')[['rating']].mean().sort_values('rating')\n",
        "print('Top 10 Lowest Rating Country Origin :')\n",
        "display(low_rat_country.head(10))"
      ],
      "metadata": {
        "colab": {
          "base_uri": "https://localhost:8080/",
          "height": 807
        },
        "id": "fd9a6853-1210-460e-8f24-950d6683a821",
        "outputId": "761d53bd-b7cb-44c1-fbd1-b30891228741"
      },
      "id": "fd9a6853-1210-460e-8f24-950d6683a821",
      "cell_type": "code",
      "execution_count": 16,
      "outputs": [
        {
          "output_type": "stream",
          "name": "stdout",
          "text": [
            "Top 10 Highest Rating Country Origin :\n"
          ]
        },
        {
          "output_type": "display_data",
          "data": {
            "text/plain": [
              "                       rating\n",
              "bean_origin                  \n",
              "China                3.500000\n",
              "Sao Tome & Principe  3.500000\n",
              "Solomon Islands      3.450000\n",
              "Congo                3.318182\n",
              "Thailand             3.300000\n",
              "Cuba                 3.291667\n",
              "Vietnam              3.287671\n",
              "Papua New Guinea     3.280612\n",
              "Madagascar           3.270468\n",
              "Haiti                3.266667"
            ],
            "text/html": [
              "\n",
              "  <div id=\"df-30adaba7-f0f3-437f-a20c-eb59e0b006ed\">\n",
              "    <div class=\"colab-df-container\">\n",
              "      <div>\n",
              "<style scoped>\n",
              "    .dataframe tbody tr th:only-of-type {\n",
              "        vertical-align: middle;\n",
              "    }\n",
              "\n",
              "    .dataframe tbody tr th {\n",
              "        vertical-align: top;\n",
              "    }\n",
              "\n",
              "    .dataframe thead th {\n",
              "        text-align: right;\n",
              "    }\n",
              "</style>\n",
              "<table border=\"1\" class=\"dataframe\">\n",
              "  <thead>\n",
              "    <tr style=\"text-align: right;\">\n",
              "      <th></th>\n",
              "      <th>rating</th>\n",
              "    </tr>\n",
              "    <tr>\n",
              "      <th>bean_origin</th>\n",
              "      <th></th>\n",
              "    </tr>\n",
              "  </thead>\n",
              "  <tbody>\n",
              "    <tr>\n",
              "      <th>China</th>\n",
              "      <td>3.500000</td>\n",
              "    </tr>\n",
              "    <tr>\n",
              "      <th>Sao Tome &amp; Principe</th>\n",
              "      <td>3.500000</td>\n",
              "    </tr>\n",
              "    <tr>\n",
              "      <th>Solomon Islands</th>\n",
              "      <td>3.450000</td>\n",
              "    </tr>\n",
              "    <tr>\n",
              "      <th>Congo</th>\n",
              "      <td>3.318182</td>\n",
              "    </tr>\n",
              "    <tr>\n",
              "      <th>Thailand</th>\n",
              "      <td>3.300000</td>\n",
              "    </tr>\n",
              "    <tr>\n",
              "      <th>Cuba</th>\n",
              "      <td>3.291667</td>\n",
              "    </tr>\n",
              "    <tr>\n",
              "      <th>Vietnam</th>\n",
              "      <td>3.287671</td>\n",
              "    </tr>\n",
              "    <tr>\n",
              "      <th>Papua New Guinea</th>\n",
              "      <td>3.280612</td>\n",
              "    </tr>\n",
              "    <tr>\n",
              "      <th>Madagascar</th>\n",
              "      <td>3.270468</td>\n",
              "    </tr>\n",
              "    <tr>\n",
              "      <th>Haiti</th>\n",
              "      <td>3.266667</td>\n",
              "    </tr>\n",
              "  </tbody>\n",
              "</table>\n",
              "</div>\n",
              "      <button class=\"colab-df-convert\" onclick=\"convertToInteractive('df-30adaba7-f0f3-437f-a20c-eb59e0b006ed')\"\n",
              "              title=\"Convert this dataframe to an interactive table.\"\n",
              "              style=\"display:none;\">\n",
              "        \n",
              "  <svg xmlns=\"http://www.w3.org/2000/svg\" height=\"24px\"viewBox=\"0 0 24 24\"\n",
              "       width=\"24px\">\n",
              "    <path d=\"M0 0h24v24H0V0z\" fill=\"none\"/>\n",
              "    <path d=\"M18.56 5.44l.94 2.06.94-2.06 2.06-.94-2.06-.94-.94-2.06-.94 2.06-2.06.94zm-11 1L8.5 8.5l.94-2.06 2.06-.94-2.06-.94L8.5 2.5l-.94 2.06-2.06.94zm10 10l.94 2.06.94-2.06 2.06-.94-2.06-.94-.94-2.06-.94 2.06-2.06.94z\"/><path d=\"M17.41 7.96l-1.37-1.37c-.4-.4-.92-.59-1.43-.59-.52 0-1.04.2-1.43.59L10.3 9.45l-7.72 7.72c-.78.78-.78 2.05 0 2.83L4 21.41c.39.39.9.59 1.41.59.51 0 1.02-.2 1.41-.59l7.78-7.78 2.81-2.81c.8-.78.8-2.07 0-2.86zM5.41 20L4 18.59l7.72-7.72 1.47 1.35L5.41 20z\"/>\n",
              "  </svg>\n",
              "      </button>\n",
              "      \n",
              "  <style>\n",
              "    .colab-df-container {\n",
              "      display:flex;\n",
              "      flex-wrap:wrap;\n",
              "      gap: 12px;\n",
              "    }\n",
              "\n",
              "    .colab-df-convert {\n",
              "      background-color: #E8F0FE;\n",
              "      border: none;\n",
              "      border-radius: 50%;\n",
              "      cursor: pointer;\n",
              "      display: none;\n",
              "      fill: #1967D2;\n",
              "      height: 32px;\n",
              "      padding: 0 0 0 0;\n",
              "      width: 32px;\n",
              "    }\n",
              "\n",
              "    .colab-df-convert:hover {\n",
              "      background-color: #E2EBFA;\n",
              "      box-shadow: 0px 1px 2px rgba(60, 64, 67, 0.3), 0px 1px 3px 1px rgba(60, 64, 67, 0.15);\n",
              "      fill: #174EA6;\n",
              "    }\n",
              "\n",
              "    [theme=dark] .colab-df-convert {\n",
              "      background-color: #3B4455;\n",
              "      fill: #D2E3FC;\n",
              "    }\n",
              "\n",
              "    [theme=dark] .colab-df-convert:hover {\n",
              "      background-color: #434B5C;\n",
              "      box-shadow: 0px 1px 3px 1px rgba(0, 0, 0, 0.15);\n",
              "      filter: drop-shadow(0px 1px 2px rgba(0, 0, 0, 0.3));\n",
              "      fill: #FFFFFF;\n",
              "    }\n",
              "  </style>\n",
              "\n",
              "      <script>\n",
              "        const buttonEl =\n",
              "          document.querySelector('#df-30adaba7-f0f3-437f-a20c-eb59e0b006ed button.colab-df-convert');\n",
              "        buttonEl.style.display =\n",
              "          google.colab.kernel.accessAllowed ? 'block' : 'none';\n",
              "\n",
              "        async function convertToInteractive(key) {\n",
              "          const element = document.querySelector('#df-30adaba7-f0f3-437f-a20c-eb59e0b006ed');\n",
              "          const dataTable =\n",
              "            await google.colab.kernel.invokeFunction('convertToInteractive',\n",
              "                                                     [key], {});\n",
              "          if (!dataTable) return;\n",
              "\n",
              "          const docLinkHtml = 'Like what you see? Visit the ' +\n",
              "            '<a target=\"_blank\" href=https://colab.research.google.com/notebooks/data_table.ipynb>data table notebook</a>'\n",
              "            + ' to learn more about interactive tables.';\n",
              "          element.innerHTML = '';\n",
              "          dataTable['output_type'] = 'display_data';\n",
              "          await google.colab.output.renderOutput(dataTable, element);\n",
              "          const docLink = document.createElement('div');\n",
              "          docLink.innerHTML = docLinkHtml;\n",
              "          element.appendChild(docLink);\n",
              "        }\n",
              "      </script>\n",
              "    </div>\n",
              "  </div>\n",
              "  "
            ]
          },
          "metadata": {}
        },
        {
          "output_type": "stream",
          "name": "stdout",
          "text": [
            "Top 10 Lowest Rating Country Origin :\n"
          ]
        },
        {
          "output_type": "display_data",
          "data": {
            "text/plain": [
              "                         rating\n",
              "bean_origin                    \n",
              "Puerto Rico            2.714286\n",
              "Martinique             2.750000\n",
              "St.Vincent-Grenadines  2.750000\n",
              "Sierra Leone           2.750000\n",
              "Principe               2.750000\n",
              "Ivory Coast            2.833333\n",
              "Taiwan                 2.875000\n",
              "Sri Lanka              2.875000\n",
              "Nigeria                2.875000\n",
              "El Salvador            3.000000"
            ],
            "text/html": [
              "\n",
              "  <div id=\"df-a323f2a6-1e7c-4358-a6df-148605bc5dc3\">\n",
              "    <div class=\"colab-df-container\">\n",
              "      <div>\n",
              "<style scoped>\n",
              "    .dataframe tbody tr th:only-of-type {\n",
              "        vertical-align: middle;\n",
              "    }\n",
              "\n",
              "    .dataframe tbody tr th {\n",
              "        vertical-align: top;\n",
              "    }\n",
              "\n",
              "    .dataframe thead th {\n",
              "        text-align: right;\n",
              "    }\n",
              "</style>\n",
              "<table border=\"1\" class=\"dataframe\">\n",
              "  <thead>\n",
              "    <tr style=\"text-align: right;\">\n",
              "      <th></th>\n",
              "      <th>rating</th>\n",
              "    </tr>\n",
              "    <tr>\n",
              "      <th>bean_origin</th>\n",
              "      <th></th>\n",
              "    </tr>\n",
              "  </thead>\n",
              "  <tbody>\n",
              "    <tr>\n",
              "      <th>Puerto Rico</th>\n",
              "      <td>2.714286</td>\n",
              "    </tr>\n",
              "    <tr>\n",
              "      <th>Martinique</th>\n",
              "      <td>2.750000</td>\n",
              "    </tr>\n",
              "    <tr>\n",
              "      <th>St.Vincent-Grenadines</th>\n",
              "      <td>2.750000</td>\n",
              "    </tr>\n",
              "    <tr>\n",
              "      <th>Sierra Leone</th>\n",
              "      <td>2.750000</td>\n",
              "    </tr>\n",
              "    <tr>\n",
              "      <th>Principe</th>\n",
              "      <td>2.750000</td>\n",
              "    </tr>\n",
              "    <tr>\n",
              "      <th>Ivory Coast</th>\n",
              "      <td>2.833333</td>\n",
              "    </tr>\n",
              "    <tr>\n",
              "      <th>Taiwan</th>\n",
              "      <td>2.875000</td>\n",
              "    </tr>\n",
              "    <tr>\n",
              "      <th>Sri Lanka</th>\n",
              "      <td>2.875000</td>\n",
              "    </tr>\n",
              "    <tr>\n",
              "      <th>Nigeria</th>\n",
              "      <td>2.875000</td>\n",
              "    </tr>\n",
              "    <tr>\n",
              "      <th>El Salvador</th>\n",
              "      <td>3.000000</td>\n",
              "    </tr>\n",
              "  </tbody>\n",
              "</table>\n",
              "</div>\n",
              "      <button class=\"colab-df-convert\" onclick=\"convertToInteractive('df-a323f2a6-1e7c-4358-a6df-148605bc5dc3')\"\n",
              "              title=\"Convert this dataframe to an interactive table.\"\n",
              "              style=\"display:none;\">\n",
              "        \n",
              "  <svg xmlns=\"http://www.w3.org/2000/svg\" height=\"24px\"viewBox=\"0 0 24 24\"\n",
              "       width=\"24px\">\n",
              "    <path d=\"M0 0h24v24H0V0z\" fill=\"none\"/>\n",
              "    <path d=\"M18.56 5.44l.94 2.06.94-2.06 2.06-.94-2.06-.94-.94-2.06-.94 2.06-2.06.94zm-11 1L8.5 8.5l.94-2.06 2.06-.94-2.06-.94L8.5 2.5l-.94 2.06-2.06.94zm10 10l.94 2.06.94-2.06 2.06-.94-2.06-.94-.94-2.06-.94 2.06-2.06.94z\"/><path d=\"M17.41 7.96l-1.37-1.37c-.4-.4-.92-.59-1.43-.59-.52 0-1.04.2-1.43.59L10.3 9.45l-7.72 7.72c-.78.78-.78 2.05 0 2.83L4 21.41c.39.39.9.59 1.41.59.51 0 1.02-.2 1.41-.59l7.78-7.78 2.81-2.81c.8-.78.8-2.07 0-2.86zM5.41 20L4 18.59l7.72-7.72 1.47 1.35L5.41 20z\"/>\n",
              "  </svg>\n",
              "      </button>\n",
              "      \n",
              "  <style>\n",
              "    .colab-df-container {\n",
              "      display:flex;\n",
              "      flex-wrap:wrap;\n",
              "      gap: 12px;\n",
              "    }\n",
              "\n",
              "    .colab-df-convert {\n",
              "      background-color: #E8F0FE;\n",
              "      border: none;\n",
              "      border-radius: 50%;\n",
              "      cursor: pointer;\n",
              "      display: none;\n",
              "      fill: #1967D2;\n",
              "      height: 32px;\n",
              "      padding: 0 0 0 0;\n",
              "      width: 32px;\n",
              "    }\n",
              "\n",
              "    .colab-df-convert:hover {\n",
              "      background-color: #E2EBFA;\n",
              "      box-shadow: 0px 1px 2px rgba(60, 64, 67, 0.3), 0px 1px 3px 1px rgba(60, 64, 67, 0.15);\n",
              "      fill: #174EA6;\n",
              "    }\n",
              "\n",
              "    [theme=dark] .colab-df-convert {\n",
              "      background-color: #3B4455;\n",
              "      fill: #D2E3FC;\n",
              "    }\n",
              "\n",
              "    [theme=dark] .colab-df-convert:hover {\n",
              "      background-color: #434B5C;\n",
              "      box-shadow: 0px 1px 3px 1px rgba(0, 0, 0, 0.15);\n",
              "      filter: drop-shadow(0px 1px 2px rgba(0, 0, 0, 0.3));\n",
              "      fill: #FFFFFF;\n",
              "    }\n",
              "  </style>\n",
              "\n",
              "      <script>\n",
              "        const buttonEl =\n",
              "          document.querySelector('#df-a323f2a6-1e7c-4358-a6df-148605bc5dc3 button.colab-df-convert');\n",
              "        buttonEl.style.display =\n",
              "          google.colab.kernel.accessAllowed ? 'block' : 'none';\n",
              "\n",
              "        async function convertToInteractive(key) {\n",
              "          const element = document.querySelector('#df-a323f2a6-1e7c-4358-a6df-148605bc5dc3');\n",
              "          const dataTable =\n",
              "            await google.colab.kernel.invokeFunction('convertToInteractive',\n",
              "                                                     [key], {});\n",
              "          if (!dataTable) return;\n",
              "\n",
              "          const docLinkHtml = 'Like what you see? Visit the ' +\n",
              "            '<a target=\"_blank\" href=https://colab.research.google.com/notebooks/data_table.ipynb>data table notebook</a>'\n",
              "            + ' to learn more about interactive tables.';\n",
              "          element.innerHTML = '';\n",
              "          dataTable['output_type'] = 'display_data';\n",
              "          await google.colab.output.renderOutput(dataTable, element);\n",
              "          const docLink = document.createElement('div');\n",
              "          docLink.innerHTML = docLinkHtml;\n",
              "          element.appendChild(docLink);\n",
              "        }\n",
              "      </script>\n",
              "    </div>\n",
              "  </div>\n",
              "  "
            ]
          },
          "metadata": {}
        }
      ]
    },
    {
      "source": [
        "- Based on the table above, China, Sao Tome & Principe, and Solomon Islands are the 3 countries that have the highest average. However, the average value of this high rating could be due to a few reviews so that the score becomes high."
      ],
      "metadata": {
        "id": "581975a2-cf2c-40ab-aa30-e935b65b79f0"
      },
      "id": "581975a2-cf2c-40ab-aa30-e935b65b79f0",
      "cell_type": "markdown"
    },
    {
      "source": [
        "### How many bars were reviewed for each of those countries?"
      ],
      "metadata": {
        "id": "b308e6e0-bdfc-4349-8fc0-0329295ab4cc"
      },
      "id": "b308e6e0-bdfc-4349-8fc0-0329295ab4cc",
      "cell_type": "markdown"
    },
    {
      "source": [
        "tot_review = df.groupby(['bean_origin']).agg({'id':'count'}).sort_values('id', ascending=False).rename(columns={'id':'total_review'}).reset_index()\n",
        "top10_tot_review = tot_review.head(10)\n",
        "print('Top 10 Highest Reviews Country Origin = ')\n",
        "display(top10_tot_review.head(10))\n",
        "print('Top 10 Lowest Reviews Country Origin = ')\n",
        "display(tot_review.tail(10))"
      ],
      "metadata": {
        "colab": {
          "base_uri": "https://localhost:8080/",
          "height": 745
        },
        "id": "ab0c5167-ff86-428e-98d2-bbeef237a0ea",
        "outputId": "ff3d8e41-ac63-42f7-99e4-dff6801432dd"
      },
      "id": "ab0c5167-ff86-428e-98d2-bbeef237a0ea",
      "cell_type": "code",
      "execution_count": 17,
      "outputs": [
        {
          "output_type": "stream",
          "name": "stdout",
          "text": [
            "Top 10 Highest Reviews Country Origin = \n"
          ]
        },
        {
          "output_type": "display_data",
          "data": {
            "text/plain": [
              "          bean_origin  total_review\n",
              "0           Venezuela           246\n",
              "1                Peru           231\n",
              "2  Dominican Republic           220\n",
              "3             Ecuador           201\n",
              "4          Madagascar           171\n",
              "5               Blend           144\n",
              "6           Nicaragua           100\n",
              "7             Bolivia            79\n",
              "8            Tanzania            78\n",
              "9            Colombia            78"
            ],
            "text/html": [
              "\n",
              "  <div id=\"df-57452455-1b09-48e9-9d41-eb8cb7e5bfd5\">\n",
              "    <div class=\"colab-df-container\">\n",
              "      <div>\n",
              "<style scoped>\n",
              "    .dataframe tbody tr th:only-of-type {\n",
              "        vertical-align: middle;\n",
              "    }\n",
              "\n",
              "    .dataframe tbody tr th {\n",
              "        vertical-align: top;\n",
              "    }\n",
              "\n",
              "    .dataframe thead th {\n",
              "        text-align: right;\n",
              "    }\n",
              "</style>\n",
              "<table border=\"1\" class=\"dataframe\">\n",
              "  <thead>\n",
              "    <tr style=\"text-align: right;\">\n",
              "      <th></th>\n",
              "      <th>bean_origin</th>\n",
              "      <th>total_review</th>\n",
              "    </tr>\n",
              "  </thead>\n",
              "  <tbody>\n",
              "    <tr>\n",
              "      <th>0</th>\n",
              "      <td>Venezuela</td>\n",
              "      <td>246</td>\n",
              "    </tr>\n",
              "    <tr>\n",
              "      <th>1</th>\n",
              "      <td>Peru</td>\n",
              "      <td>231</td>\n",
              "    </tr>\n",
              "    <tr>\n",
              "      <th>2</th>\n",
              "      <td>Dominican Republic</td>\n",
              "      <td>220</td>\n",
              "    </tr>\n",
              "    <tr>\n",
              "      <th>3</th>\n",
              "      <td>Ecuador</td>\n",
              "      <td>201</td>\n",
              "    </tr>\n",
              "    <tr>\n",
              "      <th>4</th>\n",
              "      <td>Madagascar</td>\n",
              "      <td>171</td>\n",
              "    </tr>\n",
              "    <tr>\n",
              "      <th>5</th>\n",
              "      <td>Blend</td>\n",
              "      <td>144</td>\n",
              "    </tr>\n",
              "    <tr>\n",
              "      <th>6</th>\n",
              "      <td>Nicaragua</td>\n",
              "      <td>100</td>\n",
              "    </tr>\n",
              "    <tr>\n",
              "      <th>7</th>\n",
              "      <td>Bolivia</td>\n",
              "      <td>79</td>\n",
              "    </tr>\n",
              "    <tr>\n",
              "      <th>8</th>\n",
              "      <td>Tanzania</td>\n",
              "      <td>78</td>\n",
              "    </tr>\n",
              "    <tr>\n",
              "      <th>9</th>\n",
              "      <td>Colombia</td>\n",
              "      <td>78</td>\n",
              "    </tr>\n",
              "  </tbody>\n",
              "</table>\n",
              "</div>\n",
              "      <button class=\"colab-df-convert\" onclick=\"convertToInteractive('df-57452455-1b09-48e9-9d41-eb8cb7e5bfd5')\"\n",
              "              title=\"Convert this dataframe to an interactive table.\"\n",
              "              style=\"display:none;\">\n",
              "        \n",
              "  <svg xmlns=\"http://www.w3.org/2000/svg\" height=\"24px\"viewBox=\"0 0 24 24\"\n",
              "       width=\"24px\">\n",
              "    <path d=\"M0 0h24v24H0V0z\" fill=\"none\"/>\n",
              "    <path d=\"M18.56 5.44l.94 2.06.94-2.06 2.06-.94-2.06-.94-.94-2.06-.94 2.06-2.06.94zm-11 1L8.5 8.5l.94-2.06 2.06-.94-2.06-.94L8.5 2.5l-.94 2.06-2.06.94zm10 10l.94 2.06.94-2.06 2.06-.94-2.06-.94-.94-2.06-.94 2.06-2.06.94z\"/><path d=\"M17.41 7.96l-1.37-1.37c-.4-.4-.92-.59-1.43-.59-.52 0-1.04.2-1.43.59L10.3 9.45l-7.72 7.72c-.78.78-.78 2.05 0 2.83L4 21.41c.39.39.9.59 1.41.59.51 0 1.02-.2 1.41-.59l7.78-7.78 2.81-2.81c.8-.78.8-2.07 0-2.86zM5.41 20L4 18.59l7.72-7.72 1.47 1.35L5.41 20z\"/>\n",
              "  </svg>\n",
              "      </button>\n",
              "      \n",
              "  <style>\n",
              "    .colab-df-container {\n",
              "      display:flex;\n",
              "      flex-wrap:wrap;\n",
              "      gap: 12px;\n",
              "    }\n",
              "\n",
              "    .colab-df-convert {\n",
              "      background-color: #E8F0FE;\n",
              "      border: none;\n",
              "      border-radius: 50%;\n",
              "      cursor: pointer;\n",
              "      display: none;\n",
              "      fill: #1967D2;\n",
              "      height: 32px;\n",
              "      padding: 0 0 0 0;\n",
              "      width: 32px;\n",
              "    }\n",
              "\n",
              "    .colab-df-convert:hover {\n",
              "      background-color: #E2EBFA;\n",
              "      box-shadow: 0px 1px 2px rgba(60, 64, 67, 0.3), 0px 1px 3px 1px rgba(60, 64, 67, 0.15);\n",
              "      fill: #174EA6;\n",
              "    }\n",
              "\n",
              "    [theme=dark] .colab-df-convert {\n",
              "      background-color: #3B4455;\n",
              "      fill: #D2E3FC;\n",
              "    }\n",
              "\n",
              "    [theme=dark] .colab-df-convert:hover {\n",
              "      background-color: #434B5C;\n",
              "      box-shadow: 0px 1px 3px 1px rgba(0, 0, 0, 0.15);\n",
              "      filter: drop-shadow(0px 1px 2px rgba(0, 0, 0, 0.3));\n",
              "      fill: #FFFFFF;\n",
              "    }\n",
              "  </style>\n",
              "\n",
              "      <script>\n",
              "        const buttonEl =\n",
              "          document.querySelector('#df-57452455-1b09-48e9-9d41-eb8cb7e5bfd5 button.colab-df-convert');\n",
              "        buttonEl.style.display =\n",
              "          google.colab.kernel.accessAllowed ? 'block' : 'none';\n",
              "\n",
              "        async function convertToInteractive(key) {\n",
              "          const element = document.querySelector('#df-57452455-1b09-48e9-9d41-eb8cb7e5bfd5');\n",
              "          const dataTable =\n",
              "            await google.colab.kernel.invokeFunction('convertToInteractive',\n",
              "                                                     [key], {});\n",
              "          if (!dataTable) return;\n",
              "\n",
              "          const docLinkHtml = 'Like what you see? Visit the ' +\n",
              "            '<a target=\"_blank\" href=https://colab.research.google.com/notebooks/data_table.ipynb>data table notebook</a>'\n",
              "            + ' to learn more about interactive tables.';\n",
              "          element.innerHTML = '';\n",
              "          dataTable['output_type'] = 'display_data';\n",
              "          await google.colab.output.renderOutput(dataTable, element);\n",
              "          const docLink = document.createElement('div');\n",
              "          docLink.innerHTML = docLinkHtml;\n",
              "          element.appendChild(docLink);\n",
              "        }\n",
              "      </script>\n",
              "    </div>\n",
              "  </div>\n",
              "  "
            ]
          },
          "metadata": {}
        },
        {
          "output_type": "stream",
          "name": "stdout",
          "text": [
            "Top 10 Lowest Reviews Country Origin = \n"
          ]
        },
        {
          "output_type": "display_data",
          "data": {
            "text/plain": [
              "              bean_origin  total_review\n",
              "52                  Gabon             1\n",
              "53               DR Congo             1\n",
              "54             Martinique             1\n",
              "55                  China             1\n",
              "56                 Tobago             1\n",
              "57               Suriname             1\n",
              "58                Sumatra             1\n",
              "59               Sulawesi             1\n",
              "60  St.Vincent-Grenadines             1\n",
              "61               Principe             1"
            ],
            "text/html": [
              "\n",
              "  <div id=\"df-6d7f687c-e816-418a-8a65-cf4274fc2a62\">\n",
              "    <div class=\"colab-df-container\">\n",
              "      <div>\n",
              "<style scoped>\n",
              "    .dataframe tbody tr th:only-of-type {\n",
              "        vertical-align: middle;\n",
              "    }\n",
              "\n",
              "    .dataframe tbody tr th {\n",
              "        vertical-align: top;\n",
              "    }\n",
              "\n",
              "    .dataframe thead th {\n",
              "        text-align: right;\n",
              "    }\n",
              "</style>\n",
              "<table border=\"1\" class=\"dataframe\">\n",
              "  <thead>\n",
              "    <tr style=\"text-align: right;\">\n",
              "      <th></th>\n",
              "      <th>bean_origin</th>\n",
              "      <th>total_review</th>\n",
              "    </tr>\n",
              "  </thead>\n",
              "  <tbody>\n",
              "    <tr>\n",
              "      <th>52</th>\n",
              "      <td>Gabon</td>\n",
              "      <td>1</td>\n",
              "    </tr>\n",
              "    <tr>\n",
              "      <th>53</th>\n",
              "      <td>DR Congo</td>\n",
              "      <td>1</td>\n",
              "    </tr>\n",
              "    <tr>\n",
              "      <th>54</th>\n",
              "      <td>Martinique</td>\n",
              "      <td>1</td>\n",
              "    </tr>\n",
              "    <tr>\n",
              "      <th>55</th>\n",
              "      <td>China</td>\n",
              "      <td>1</td>\n",
              "    </tr>\n",
              "    <tr>\n",
              "      <th>56</th>\n",
              "      <td>Tobago</td>\n",
              "      <td>1</td>\n",
              "    </tr>\n",
              "    <tr>\n",
              "      <th>57</th>\n",
              "      <td>Suriname</td>\n",
              "      <td>1</td>\n",
              "    </tr>\n",
              "    <tr>\n",
              "      <th>58</th>\n",
              "      <td>Sumatra</td>\n",
              "      <td>1</td>\n",
              "    </tr>\n",
              "    <tr>\n",
              "      <th>59</th>\n",
              "      <td>Sulawesi</td>\n",
              "      <td>1</td>\n",
              "    </tr>\n",
              "    <tr>\n",
              "      <th>60</th>\n",
              "      <td>St.Vincent-Grenadines</td>\n",
              "      <td>1</td>\n",
              "    </tr>\n",
              "    <tr>\n",
              "      <th>61</th>\n",
              "      <td>Principe</td>\n",
              "      <td>1</td>\n",
              "    </tr>\n",
              "  </tbody>\n",
              "</table>\n",
              "</div>\n",
              "      <button class=\"colab-df-convert\" onclick=\"convertToInteractive('df-6d7f687c-e816-418a-8a65-cf4274fc2a62')\"\n",
              "              title=\"Convert this dataframe to an interactive table.\"\n",
              "              style=\"display:none;\">\n",
              "        \n",
              "  <svg xmlns=\"http://www.w3.org/2000/svg\" height=\"24px\"viewBox=\"0 0 24 24\"\n",
              "       width=\"24px\">\n",
              "    <path d=\"M0 0h24v24H0V0z\" fill=\"none\"/>\n",
              "    <path d=\"M18.56 5.44l.94 2.06.94-2.06 2.06-.94-2.06-.94-.94-2.06-.94 2.06-2.06.94zm-11 1L8.5 8.5l.94-2.06 2.06-.94-2.06-.94L8.5 2.5l-.94 2.06-2.06.94zm10 10l.94 2.06.94-2.06 2.06-.94-2.06-.94-.94-2.06-.94 2.06-2.06.94z\"/><path d=\"M17.41 7.96l-1.37-1.37c-.4-.4-.92-.59-1.43-.59-.52 0-1.04.2-1.43.59L10.3 9.45l-7.72 7.72c-.78.78-.78 2.05 0 2.83L4 21.41c.39.39.9.59 1.41.59.51 0 1.02-.2 1.41-.59l7.78-7.78 2.81-2.81c.8-.78.8-2.07 0-2.86zM5.41 20L4 18.59l7.72-7.72 1.47 1.35L5.41 20z\"/>\n",
              "  </svg>\n",
              "      </button>\n",
              "      \n",
              "  <style>\n",
              "    .colab-df-container {\n",
              "      display:flex;\n",
              "      flex-wrap:wrap;\n",
              "      gap: 12px;\n",
              "    }\n",
              "\n",
              "    .colab-df-convert {\n",
              "      background-color: #E8F0FE;\n",
              "      border: none;\n",
              "      border-radius: 50%;\n",
              "      cursor: pointer;\n",
              "      display: none;\n",
              "      fill: #1967D2;\n",
              "      height: 32px;\n",
              "      padding: 0 0 0 0;\n",
              "      width: 32px;\n",
              "    }\n",
              "\n",
              "    .colab-df-convert:hover {\n",
              "      background-color: #E2EBFA;\n",
              "      box-shadow: 0px 1px 2px rgba(60, 64, 67, 0.3), 0px 1px 3px 1px rgba(60, 64, 67, 0.15);\n",
              "      fill: #174EA6;\n",
              "    }\n",
              "\n",
              "    [theme=dark] .colab-df-convert {\n",
              "      background-color: #3B4455;\n",
              "      fill: #D2E3FC;\n",
              "    }\n",
              "\n",
              "    [theme=dark] .colab-df-convert:hover {\n",
              "      background-color: #434B5C;\n",
              "      box-shadow: 0px 1px 3px 1px rgba(0, 0, 0, 0.15);\n",
              "      filter: drop-shadow(0px 1px 2px rgba(0, 0, 0, 0.3));\n",
              "      fill: #FFFFFF;\n",
              "    }\n",
              "  </style>\n",
              "\n",
              "      <script>\n",
              "        const buttonEl =\n",
              "          document.querySelector('#df-6d7f687c-e816-418a-8a65-cf4274fc2a62 button.colab-df-convert');\n",
              "        buttonEl.style.display =\n",
              "          google.colab.kernel.accessAllowed ? 'block' : 'none';\n",
              "\n",
              "        async function convertToInteractive(key) {\n",
              "          const element = document.querySelector('#df-6d7f687c-e816-418a-8a65-cf4274fc2a62');\n",
              "          const dataTable =\n",
              "            await google.colab.kernel.invokeFunction('convertToInteractive',\n",
              "                                                     [key], {});\n",
              "          if (!dataTable) return;\n",
              "\n",
              "          const docLinkHtml = 'Like what you see? Visit the ' +\n",
              "            '<a target=\"_blank\" href=https://colab.research.google.com/notebooks/data_table.ipynb>data table notebook</a>'\n",
              "            + ' to learn more about interactive tables.';\n",
              "          element.innerHTML = '';\n",
              "          dataTable['output_type'] = 'display_data';\n",
              "          await google.colab.output.renderOutput(dataTable, element);\n",
              "          const docLink = document.createElement('div');\n",
              "          docLink.innerHTML = docLinkHtml;\n",
              "          element.appendChild(docLink);\n",
              "        }\n",
              "      </script>\n",
              "    </div>\n",
              "  </div>\n",
              "  "
            ]
          },
          "metadata": {}
        }
      ]
    },
    {
      "source": [
        "### Which countries that generated BOTH the highest average rating and review?"
      ],
      "metadata": {
        "id": "6628744e-71ca-4fbd-bb06-9f4784274d92"
      },
      "id": "6628744e-71ca-4fbd-bb06-9f4784274d92",
      "cell_type": "markdown"
    },
    {
      "source": [
        "both_high = high_rat_country.merge(top10_tot_review, on='bean_origin', how='inner')\n",
        "both_high"
      ],
      "metadata": {
        "colab": {
          "base_uri": "https://localhost:8080/",
          "height": 81
        },
        "id": "0972853b-baf1-4c3c-a5ef-da775a96ce83",
        "outputId": "f78753da-45bc-45bf-83e3-1469739c3802"
      },
      "id": "0972853b-baf1-4c3c-a5ef-da775a96ce83",
      "cell_type": "code",
      "execution_count": 18,
      "outputs": [
        {
          "output_type": "execute_result",
          "data": {
            "text/plain": [
              "  bean_origin    rating  total_review\n",
              "0  Madagascar  3.270468           171"
            ],
            "text/html": [
              "\n",
              "  <div id=\"df-93f1638c-0199-4779-b2ad-d90eaa8503b0\">\n",
              "    <div class=\"colab-df-container\">\n",
              "      <div>\n",
              "<style scoped>\n",
              "    .dataframe tbody tr th:only-of-type {\n",
              "        vertical-align: middle;\n",
              "    }\n",
              "\n",
              "    .dataframe tbody tr th {\n",
              "        vertical-align: top;\n",
              "    }\n",
              "\n",
              "    .dataframe thead th {\n",
              "        text-align: right;\n",
              "    }\n",
              "</style>\n",
              "<table border=\"1\" class=\"dataframe\">\n",
              "  <thead>\n",
              "    <tr style=\"text-align: right;\">\n",
              "      <th></th>\n",
              "      <th>bean_origin</th>\n",
              "      <th>rating</th>\n",
              "      <th>total_review</th>\n",
              "    </tr>\n",
              "  </thead>\n",
              "  <tbody>\n",
              "    <tr>\n",
              "      <th>0</th>\n",
              "      <td>Madagascar</td>\n",
              "      <td>3.270468</td>\n",
              "      <td>171</td>\n",
              "    </tr>\n",
              "  </tbody>\n",
              "</table>\n",
              "</div>\n",
              "      <button class=\"colab-df-convert\" onclick=\"convertToInteractive('df-93f1638c-0199-4779-b2ad-d90eaa8503b0')\"\n",
              "              title=\"Convert this dataframe to an interactive table.\"\n",
              "              style=\"display:none;\">\n",
              "        \n",
              "  <svg xmlns=\"http://www.w3.org/2000/svg\" height=\"24px\"viewBox=\"0 0 24 24\"\n",
              "       width=\"24px\">\n",
              "    <path d=\"M0 0h24v24H0V0z\" fill=\"none\"/>\n",
              "    <path d=\"M18.56 5.44l.94 2.06.94-2.06 2.06-.94-2.06-.94-.94-2.06-.94 2.06-2.06.94zm-11 1L8.5 8.5l.94-2.06 2.06-.94-2.06-.94L8.5 2.5l-.94 2.06-2.06.94zm10 10l.94 2.06.94-2.06 2.06-.94-2.06-.94-.94-2.06-.94 2.06-2.06.94z\"/><path d=\"M17.41 7.96l-1.37-1.37c-.4-.4-.92-.59-1.43-.59-.52 0-1.04.2-1.43.59L10.3 9.45l-7.72 7.72c-.78.78-.78 2.05 0 2.83L4 21.41c.39.39.9.59 1.41.59.51 0 1.02-.2 1.41-.59l7.78-7.78 2.81-2.81c.8-.78.8-2.07 0-2.86zM5.41 20L4 18.59l7.72-7.72 1.47 1.35L5.41 20z\"/>\n",
              "  </svg>\n",
              "      </button>\n",
              "      \n",
              "  <style>\n",
              "    .colab-df-container {\n",
              "      display:flex;\n",
              "      flex-wrap:wrap;\n",
              "      gap: 12px;\n",
              "    }\n",
              "\n",
              "    .colab-df-convert {\n",
              "      background-color: #E8F0FE;\n",
              "      border: none;\n",
              "      border-radius: 50%;\n",
              "      cursor: pointer;\n",
              "      display: none;\n",
              "      fill: #1967D2;\n",
              "      height: 32px;\n",
              "      padding: 0 0 0 0;\n",
              "      width: 32px;\n",
              "    }\n",
              "\n",
              "    .colab-df-convert:hover {\n",
              "      background-color: #E2EBFA;\n",
              "      box-shadow: 0px 1px 2px rgba(60, 64, 67, 0.3), 0px 1px 3px 1px rgba(60, 64, 67, 0.15);\n",
              "      fill: #174EA6;\n",
              "    }\n",
              "\n",
              "    [theme=dark] .colab-df-convert {\n",
              "      background-color: #3B4455;\n",
              "      fill: #D2E3FC;\n",
              "    }\n",
              "\n",
              "    [theme=dark] .colab-df-convert:hover {\n",
              "      background-color: #434B5C;\n",
              "      box-shadow: 0px 1px 3px 1px rgba(0, 0, 0, 0.15);\n",
              "      filter: drop-shadow(0px 1px 2px rgba(0, 0, 0, 0.3));\n",
              "      fill: #FFFFFF;\n",
              "    }\n",
              "  </style>\n",
              "\n",
              "      <script>\n",
              "        const buttonEl =\n",
              "          document.querySelector('#df-93f1638c-0199-4779-b2ad-d90eaa8503b0 button.colab-df-convert');\n",
              "        buttonEl.style.display =\n",
              "          google.colab.kernel.accessAllowed ? 'block' : 'none';\n",
              "\n",
              "        async function convertToInteractive(key) {\n",
              "          const element = document.querySelector('#df-93f1638c-0199-4779-b2ad-d90eaa8503b0');\n",
              "          const dataTable =\n",
              "            await google.colab.kernel.invokeFunction('convertToInteractive',\n",
              "                                                     [key], {});\n",
              "          if (!dataTable) return;\n",
              "\n",
              "          const docLinkHtml = 'Like what you see? Visit the ' +\n",
              "            '<a target=\"_blank\" href=https://colab.research.google.com/notebooks/data_table.ipynb>data table notebook</a>'\n",
              "            + ' to learn more about interactive tables.';\n",
              "          element.innerHTML = '';\n",
              "          dataTable['output_type'] = 'display_data';\n",
              "          await google.colab.output.renderOutput(dataTable, element);\n",
              "          const docLink = document.createElement('div');\n",
              "          docLink.innerHTML = docLinkHtml;\n",
              "          element.appendChild(docLink);\n",
              "        }\n",
              "      </script>\n",
              "    </div>\n",
              "  </div>\n",
              "  "
            ]
          },
          "metadata": {},
          "execution_count": 18
        }
      ]
    },
    {
      "source": [
        "- Now, we can see country that has both the highest rating and the most number of reviews is Madagascar."
      ],
      "metadata": {
        "id": "35606d2e-0a4c-4b9e-a77f-c3756c6e94d5"
      },
      "id": "35606d2e-0a4c-4b9e-a77f-c3756c6e94d5",
      "cell_type": "markdown"
    },
    {
      "source": [
        "### Visualization of findings for questions 1 and 2."
      ],
      "metadata": {
        "id": "ff455e42-9c9b-4fe6-9ced-47a7ebd2b56e"
      },
      "id": "ff455e42-9c9b-4fe6-9ced-47a7ebd2b56e",
      "cell_type": "markdown"
    },
    {
      "source": [
        "high_rats_country = df.groupby('bean_origin')[['rating']].mean().reset_index().sort_values('rating', ascending = False).head(10)\n",
        "high_rat_country = pd.DataFrame(high_rats_country)\n",
        "\n",
        "plt.style.use('default')\n",
        "sns.catplot(x= \"bean_origin\", y = 'rating', data = high_rat_country, kind = \"bar\", height = 7.5, aspect = 11.7/8.27)\n",
        "plt.xticks(rotation=30)\n",
        "plt.title('Top 10 Country of Origin by Chocolate Bar Rating')\n",
        "plt.show()"
      ],
      "metadata": {
        "colab": {
          "base_uri": "https://localhost:8080/",
          "height": 848
        },
        "id": "98dfae26-5e8a-47b2-b76b-1a91c1e724d4",
        "outputId": "51ef7db6-751d-4fee-bcf2-006c1f2ff897"
      },
      "id": "98dfae26-5e8a-47b2-b76b-1a91c1e724d4",
      "cell_type": "code",
      "execution_count": 20,
      "outputs": [
        {
          "output_type": "display_data",
          "data": {
            "text/plain": [
              "<Figure size 1061.06x750 with 1 Axes>"
            ],
            "image/png": "[encoded data removed]"
          },
          "metadata": {}
        }
      ]
    },
    {
      "source": [
        "tot_review_top10 = tot_review[0:10]\n",
        "\n",
        "sns.catplot(x='bean_origin', y='total_review', data = tot_review_top10, kind=\"bar\", aspect=2)\n",
        "plt.title('Top 10 Country of Origin by Total Review')\n",
        "plt.xticks(rotation=30)\n",
        "plt.show()"
      ],
      "metadata": {
        "colab": {
          "base_uri": "https://localhost:8080/",
          "height": 596
        },
        "id": "db6037be-209d-40fa-be39-39800192442a",
        "outputId": "b5a64a04-41e3-403a-ebd8-949de7ddff8f"
      },
      "id": "db6037be-209d-40fa-be39-39800192442a",
      "cell_type": "code",
      "execution_count": null,
      "outputs": [
        {
          "output_type": "display_data",
          "data": {
            "text/plain": [
              "<Figure size 1000x500 with 1 Axes>"
            ],
            "image/png": "[encoded data removed]"
          },
          "metadata": {}
        }
      ]
    },
    {
      "source": [
        "### Is the cacao bean's origin an indicator of quality?"
      ],
      "metadata": {
        "id": "403ced1c-44d4-4716-b554-c42bd469c08d"
      },
      "id": "403ced1c-44d4-4716-b554-c42bd469c08d",
      "cell_type": "markdown"
    },
    {
      "source": [
        "- Cacao solids deliver the chocolatey taste that the chocolate has. On average, all chocolates have at least 50% Cacao solids. Anything below this is termed as bad quality. Dark chocolates have a minimum of 75% of Cacao solids. This is the reason why they are generally more expensive than the others and also taste finer."
      ],
      "metadata": {
        "id": "f30176dd-428c-41e4-ab0e-db811968db0d"
      },
      "id": "f30176dd-428c-41e4-ab0e-db811968db0d",
      "cell_type": "markdown"
    },
    {
      "source": [
        "cocoa_rat_data = df.groupby('bean_origin')[['cocoa_percent','rating']].mean().sort_values(['cocoa_percent','rating'], ascending=False)\n",
        "above_50per = cocoa_rat_data[cocoa_rat_data['cocoa_percent']>=50]\n",
        "print('Countries with cocoa percent above 50%')\n",
        "above_50per"
      ],
      "metadata": {
        "colab": {
          "base_uri": "https://localhost:8080/",
          "height": 473
        },
        "id": "8b68efc0-9ee6-4646-833b-eb4d72f96f93",
        "outputId": "3e84b30a-7c58-4a33-9710-ceaeb43ef9df"
      },
      "id": "8b68efc0-9ee6-4646-833b-eb4d72f96f93",
      "cell_type": "code",
      "execution_count": null,
      "outputs": [
        {
          "output_type": "stream",
          "name": "stdout",
          "text": [
            "Countries with cocoa percent above 50%\n"
          ]
        },
        {
          "output_type": "execute_result",
          "data": {
            "text/plain": [
              "             cocoa_percent    rating\n",
              "bean_origin                         \n",
              "Samoa            82.333333  3.083333\n",
              "Principe         77.000000  2.750000\n",
              "Gabon            75.000000  3.250000\n",
              "Cuba             74.333333  3.291667\n",
              "Belize           72.932432  3.243243\n",
              "...                    ...       ...\n",
              "U.S.A.           68.709677  3.217742\n",
              "Puerto Rico      68.285714  2.714286\n",
              "DR Congo         68.000000  3.000000\n",
              "Sulawesi         66.000000  3.250000\n",
              "Tobago           60.000000  3.250000\n",
              "\n",
              "[61 rows x 2 columns]"
            ],
            "text/html": [
              "\n",
              "  <div id=\"df-28bc7102-f796-4aa8-8415-074435d74d16\">\n",
              "    <div class=\"colab-df-container\">\n",
              "      <div>\n",
              "<style scoped>\n",
              "    .dataframe tbody tr th:only-of-type {\n",
              "        vertical-align: middle;\n",
              "    }\n",
              "\n",
              "    .dataframe tbody tr th {\n",
              "        vertical-align: top;\n",
              "    }\n",
              "\n",
              "    .dataframe thead th {\n",
              "        text-align: right;\n",
              "    }\n",
              "</style>\n",
              "<table border=\"1\" class=\"dataframe\">\n",
              "  <thead>\n",
              "    <tr style=\"text-align: right;\">\n",
              "      <th></th>\n",
              "      <th>cocoa_percent</th>\n",
              "      <th>rating</th>\n",
              "    </tr>\n",
              "    <tr>\n",
              "      <th>bean_origin</th>\n",
              "      <th></th>\n",
              "      <th></th>\n",
              "    </tr>\n",
              "  </thead>\n",
              "  <tbody>\n",
              "    <tr>\n",
              "      <th>Samoa</th>\n",
              "      <td>82.333333</td>\n",
              "      <td>3.083333</td>\n",
              "    </tr>\n",
              "    <tr>\n",
              "      <th>Principe</th>\n",
              "      <td>77.000000</td>\n",
              "      <td>2.750000</td>\n",
              "    </tr>\n",
              "    <tr>\n",
              "      <th>Gabon</th>\n",
              "      <td>75.000000</td>\n",
              "      <td>3.250000</td>\n",
              "    </tr>\n",
              "    <tr>\n",
              "      <th>Cuba</th>\n",
              "      <td>74.333333</td>\n",
              "      <td>3.291667</td>\n",
              "    </tr>\n",
              "    <tr>\n",
              "      <th>Belize</th>\n",
              "      <td>72.932432</td>\n",
              "      <td>3.243243</td>\n",
              "    </tr>\n",
              "    <tr>\n",
              "      <th>...</th>\n",
              "      <td>...</td>\n",
              "      <td>...</td>\n",
              "    </tr>\n",
              "    <tr>\n",
              "      <th>U.S.A.</th>\n",
              "      <td>68.709677</td>\n",
              "      <td>3.217742</td>\n",
              "    </tr>\n",
              "    <tr>\n",
              "      <th>Puerto Rico</th>\n",
              "      <td>68.285714</td>\n",
              "      <td>2.714286</td>\n",
              "    </tr>\n",
              "    <tr>\n",
              "      <th>DR Congo</th>\n",
              "      <td>68.000000</td>\n",
              "      <td>3.000000</td>\n",
              "    </tr>\n",
              "    <tr>\n",
              "      <th>Sulawesi</th>\n",
              "      <td>66.000000</td>\n",
              "      <td>3.250000</td>\n",
              "    </tr>\n",
              "    <tr>\n",
              "      <th>Tobago</th>\n",
              "      <td>60.000000</td>\n",
              "      <td>3.250000</td>\n",
              "    </tr>\n",
              "  </tbody>\n",
              "</table>\n",
              "<p>61 rows × 2 columns</p>\n",
              "</div>\n",
              "      <button class=\"colab-df-convert\" onclick=\"convertToInteractive('df-28bc7102-f796-4aa8-8415-074435d74d16')\"\n",
              "              title=\"Convert this dataframe to an interactive table.\"\n",
              "              style=\"display:none;\">\n",
              "        \n",
              "  <svg xmlns=\"http://www.w3.org/2000/svg\" height=\"24px\"viewBox=\"0 0 24 24\"\n",
              "       width=\"24px\">\n",
              "    <path d=\"M0 0h24v24H0V0z\" fill=\"none\"/>\n",
              "    <path d=\"M18.56 5.44l.94 2.06.94-2.06 2.06-.94-2.06-.94-.94-2.06-.94 2.06-2.06.94zm-11 1L8.5 8.5l.94-2.06 2.06-.94-2.06-.94L8.5 2.5l-.94 2.06-2.06.94zm10 10l.94 2.06.94-2.06 2.06-.94-2.06-.94-.94-2.06-.94 2.06-2.06.94z\"/><path d=\"M17.41 7.96l-1.37-1.37c-.4-.4-.92-.59-1.43-.59-.52 0-1.04.2-1.43.59L10.3 9.45l-7.72 7.72c-.78.78-.78 2.05 0 2.83L4 21.41c.39.39.9.59 1.41.59.51 0 1.02-.2 1.41-.59l7.78-7.78 2.81-2.81c.8-.78.8-2.07 0-2.86zM5.41 20L4 18.59l7.72-7.72 1.47 1.35L5.41 20z\"/>\n",
              "  </svg>\n",
              "      </button>\n",
              "      \n",
              "  <style>\n",
              "    .colab-df-container {\n",
              "      display:flex;\n",
              "      flex-wrap:wrap;\n",
              "      gap: 12px;\n",
              "    }\n",
              "\n",
              "    .colab-df-convert {\n",
              "      background-color: #E8F0FE;\n",
              "      border: none;\n",
              "      border-radius: 50%;\n",
              "      cursor: pointer;\n",
              "      display: none;\n",
              "      fill: #1967D2;\n",
              "      height: 32px;\n",
              "      padding: 0 0 0 0;\n",
              "      width: 32px;\n",
              "    }\n",
              "\n",
              "    .colab-df-convert:hover {\n",
              "      background-color: #E2EBFA;\n",
              "      box-shadow: 0px 1px 2px rgba(60, 64, 67, 0.3), 0px 1px 3px 1px rgba(60, 64, 67, 0.15);\n",
              "      fill: #174EA6;\n",
              "    }\n",
              "\n",
              "    [theme=dark] .colab-df-convert {\n",
              "      background-color: #3B4455;\n",
              "      fill: #D2E3FC;\n",
              "    }\n",
              "\n",
              "    [theme=dark] .colab-df-convert:hover {\n",
              "      background-color: #434B5C;\n",
              "      box-shadow: 0px 1px 3px 1px rgba(0, 0, 0, 0.15);\n",
              "      filter: drop-shadow(0px 1px 2px rgba(0, 0, 0, 0.3));\n",
              "      fill: #FFFFFF;\n",
              "    }\n",
              "  </style>\n",
              "\n",
              "      <script>\n",
              "        const buttonEl =\n",
              "          document.querySelector('#df-28bc7102-f796-4aa8-8415-074435d74d16 button.colab-df-convert');\n",
              "        buttonEl.style.display =\n",
              "          google.colab.kernel.accessAllowed ? 'block' : 'none';\n",
              "\n",
              "        async function convertToInteractive(key) {\n",
              "          const element = document.querySelector('#df-28bc7102-f796-4aa8-8415-074435d74d16');\n",
              "          const dataTable =\n",
              "            await google.colab.kernel.invokeFunction('convertToInteractive',\n",
              "                                                     [key], {});\n",
              "          if (!dataTable) return;\n",
              "\n",
              "          const docLinkHtml = 'Like what you see? Visit the ' +\n",
              "            '<a target=\"_blank\" href=https://colab.research.google.com/notebooks/data_table.ipynb>data table notebook</a>'\n",
              "            + ' to learn more about interactive tables.';\n",
              "          element.innerHTML = '';\n",
              "          dataTable['output_type'] = 'display_data';\n",
              "          await google.colab.output.renderOutput(dataTable, element);\n",
              "          const docLink = document.createElement('div');\n",
              "          docLink.innerHTML = docLinkHtml;\n",
              "          element.appendChild(docLink);\n",
              "        }\n",
              "      </script>\n",
              "    </div>\n",
              "  </div>\n",
              "  "
            ]
          },
          "metadata": {},
          "execution_count": 14
        }
      ]
    },
    {
      "source": [
        "We can see that 61 bean origin countries that has a high quality chocolate beans"
      ],
      "metadata": {
        "id": "5bbc5ace-08e2-462d-90b5-39b5c4769179"
      },
      "id": "5bbc5ace-08e2-462d-90b5-39b5c4769179",
      "cell_type": "markdown"
    },
    {
      "source": [
        "### How does cocoa content relate to rating? What is the average cocoa content for bars with higher ratings (above 3.5)?"
      ],
      "metadata": {
        "id": "7a57a891-e276-4d03-912c-c4475d156c12"
      },
      "id": "7a57a891-e276-4d03-912c-c4475d156c12",
      "cell_type": "markdown"
    },
    {
      "source": [
        "plt.scatter( x=df['rating'], y=df['cocoa_percent'], s=2)\n",
        "plt.xlabel(\"Rating\")\n",
        "plt.ylabel(\"Cocoa Percent\")\n",
        "plt.title(\"Rating vs Cocoa Percent\")\n",
        "plt.show()"
      ],
      "metadata": {
        "colab": {
          "base_uri": "https://localhost:8080/",
          "height": 472
        },
        "id": "d7d44788-f065-4bae-a4c7-45c0f5fb4e5b",
        "outputId": "9d93a9f6-1e50-47a1-b90d-892d2c9ad157"
      },
      "id": "d7d44788-f065-4bae-a4c7-45c0f5fb4e5b",
      "cell_type": "code",
      "execution_count": null,
      "outputs": [
        {
          "output_type": "display_data",
          "data": {
            "text/plain": [
              "<Figure size 640x480 with 1 Axes>"
            ],
            "image/png": "[encoded data removed]"
          },
          "metadata": {}
        }
      ]
    },
    {
      "source": [
        "higher_rating = df[df['rating']>3.5]\n",
        "avg_high_rating = higher_rating['cocoa_percent'].mean(axis=0)\n",
        "print('Cocoa percent average for high rating chocolate bars:', avg_high_rating)\n",
        "\n",
        "lower_rating = df[df['rating']<3.5]\n",
        "avg_low_rating = lower_rating['cocoa_percent'].mean(axis=0)\n",
        "print('Cocoa percent average for low rating chocolate bars:', avg_low_rating)"
      ],
      "metadata": {
        "colab": {
          "base_uri": "https://localhost:8080/"
        },
        "id": "5e2b769f-a7f4-4d69-b3ff-6458404c57d8",
        "outputId": "e27f682b-3987-4370-d4ef-05e8c5abbb2c"
      },
      "id": "5e2b769f-a7f4-4d69-b3ff-6458404c57d8",
      "cell_type": "code",
      "execution_count": null,
      "outputs": [
        {
          "output_type": "stream",
          "name": "stdout",
          "text": [
            "Cocoa percent average for high rating chocolate bars: 70.99630541871922\n",
            "Cocoa percent average for low rating chocolate bars: 71.73299663299663\n"
          ]
        }
      ]
    },
    {
      "source": [
        "below_rat = lower_rating['cocoa_percent']\n",
        "above_rat = higher_rating['cocoa_percent']\n",
        "mean_diff = above_rat.mean() - below_rat.mean()\n",
        "print('Cocoa percent difference:', mean_diff)"
      ],
      "metadata": {
        "colab": {
          "base_uri": "https://localhost:8080/"
        },
        "id": "dae9ec21-fa90-4669-a284-24a442e05013",
        "outputId": "3ade298a-a263-4860-ec9c-300294ec6355"
      },
      "id": "dae9ec21-fa90-4669-a284-24a442e05013",
      "cell_type": "code",
      "execution_count": null,
      "outputs": [
        {
          "output_type": "stream",
          "name": "stdout",
          "text": [
            "Cocoa percent difference: -0.736691214277414\n"
          ]
        }
      ]
    },
    {
      "source": [
        "- Chocolate bar with higher rating (>3.5) have a lower cocoa percentage average than the lower rating chocolate bar (<3.5) with differences around 0.7%. To get a feeling for the uncertainty around how much percent cocoa with higher rating diffrences than the lower rating, we could look at a confidence interval (here calculated using the bootstrap method).\n"
      ],
      "metadata": {
        "id": "496c0069-a580-441b-a362-814dc4f7033b"
      },
      "id": "496c0069-a580-441b-a362-814dc4f7033b",
      "cell_type": "markdown"
    },
    {
      "source": [
        "# A bootstrap analysis of the cocoa percent difference beetwen higer rating and lower rating chocolate bars\n",
        "boot_mean_diff = []\n",
        "for i in range(5000):\n",
        "    boot_above = above_rat.sample(frac=1, replace=True)\n",
        "    boot_below = below_rat.sample(frac=1, replace=True)\n",
        "    boot_mean_diff.append( boot_above.mean() - boot_below.mean() )\n",
        "\n",
        "# Calculating a 95% confidence interval from boot_mean_diff \n",
        "confidence_interval = pd.Series(boot_mean_diff).quantile([0.025, 0.975])\n",
        "confidence_interval"
      ],
      "metadata": {
        "colab": {
          "base_uri": "https://localhost:8080/"
        },
        "id": "5567526a-f0f9-4f77-bd12-13cef683364e",
        "outputId": "b0c6c1cb-77b2-4ed5-d7ed-8ce4503009d2"
      },
      "id": "5567526a-f0f9-4f77-bd12-13cef683364e",
      "cell_type": "code",
      "execution_count": null,
      "outputs": [
        {
          "output_type": "execute_result",
          "data": {
            "text/plain": [
              "0.025   -1.181588\n",
              "0.975   -0.283764\n",
              "dtype: float64"
            ]
          },
          "metadata": {},
          "execution_count": 18
        }
      ]
    },
    {
      "source": [
        "So chocolate with > 3.5 rating has lower cocoa percent between 0.2% and 1.2% percentage points, according to a 95% confidence interval. All in all, it would seem that the difference is very small. This can also be seen from the distribution of cocoa percent with ratings > 3.5 and < 3.5, which are both aggregated at the percent cocoa value of 65-85%. In addition, data on ratings < 2 are rarely found because the majority of people in the data give ratings > 2.\n"
      ],
      "metadata": {
        "id": "a8156f2e-6444-4ff1-acaa-4709394c1cc3"
      },
      "id": "a8156f2e-6444-4ff1-acaa-4709394c1cc3",
      "cell_type": "markdown"
    },
    {
      "source": [
        "- For this case, The hypothesis is that cocoa percent for lower rating chocolate will be more likely to have a higher rating than the higher cocoa percent than the chocolate bars with higher rating. So that the null and alternate hypotheses are as follows:\n",
        "\n",
        "**Null Hypothesis** = The percentage of cocoa in higher rating chocolate bars is greater than in lower rating chocolate.\n",
        "\n",
        "**Alternate Hypothesis** = The percentage of cocoa in a higher rating chocolate bars is no greater than lower rating chocolate.\n",
        "\n",
        "The significance threshold we will set as the benchmark to either accept or fail to reject the null hypothesis will be:\n",
        "\n",
        "𝛼 = 0.05\n",
        "\n",
        "To check whether the difference is statistically significant or not, we can use the **mannwhitneyu**."
      ],
      "metadata": {
        "id": "7c280f17-6f42-491d-8fe1-9a45212ac1ce"
      },
      "id": "7c280f17-6f42-491d-8fe1-9a45212ac1ce",
      "cell_type": "markdown"
    },
    {
      "source": [
        "from scipy.stats import mannwhitneyu\n",
        "stat, p = mannwhitneyu(higher_rating['cocoa_percent'], lower_rating['cocoa_percent'], alternative='greater')\n",
        "print('stat=%.3f, p=%.3f' % (stat, p))\n",
        "if p > 0.05:\n",
        "  \tprint('A is not greater than B')\n",
        "else:\n",
        "\t  print('A greater than B')"
      ],
      "metadata": {
        "id": "de679c6b-2de1-4a40-a809-ea2aecbe8c0d",
        "outputId": "173fae32-6223-4cc0-886f-3c5671c6cc32",
        "colab": {
          "base_uri": "https://localhost:8080/"
        }
      },
      "id": "de679c6b-2de1-4a40-a809-ea2aecbe8c0d",
      "cell_type": "code",
      "execution_count": null,
      "outputs": [
        {
          "output_type": "stream",
          "name": "stdout",
          "text": [
            "stat=270803.500, p=0.999\n",
            "Probably the same distribution\n"
          ]
        }
      ]
    },
    {
      "source": [
        "Based on the results, The p-value of the test comes out to be equal 0.99, which is greater than the significance level alpha (that is, 0.05). This implies that we can say that the cocoa percent of higher rating chocolate bars distribution is not greater than the cocoa percent of lower rating chocolate bars. "
      ],
      "metadata": {
        "id": "970f5e32-4140-48fa-b0e5-fc2b0297b75c"
      },
      "id": "970f5e32-4140-48fa-b0e5-fc2b0297b75c",
      "cell_type": "markdown"
    },
    {
      "source": [
        "### Your research indicates that some consumers want to avoid bars with lecithin. Compare the average rating of bars with and without lecithin (L in the ingredients)."
      ],
      "metadata": {
        "id": "17a6e441-74c6-45c1-8dc1-0e4f51d490a4"
      },
      "id": "17a6e441-74c6-45c1-8dc1-0e4f51d490a4",
      "cell_type": "markdown"
    },
    {
      "source": [
        "data_L = df[df['ingredients'].str.contains('L')==True]['rating']\n",
        "data_no_L = df[df['ingredients'].str.contains('L')==False]['rating']\n",
        "dat = df[df['ingredients'].str.contains('L')==True]['rating'].mean()\n",
        "dit = df[df['ingredients'].str.contains('L')==False]['rating'].mean()\n",
        "print('Average rating for chocolate bars with Lecithin:', dat)\n",
        "print('Average rating for chocolate bars without Lecithin:', dit)"
      ],
      "metadata": {
        "id": "fe3f0c99-0c82-4f08-ad42-b852cdef6821",
        "outputId": "faef44ed-052f-4164-912f-e2a5603d9e2e",
        "colab": {
          "base_uri": "https://localhost:8080/"
        }
      },
      "id": "fe3f0c99-0c82-4f08-ad42-b852cdef6821",
      "cell_type": "code",
      "execution_count": null,
      "outputs": [
        {
          "output_type": "stream",
          "name": "stdout",
          "text": [
            "Average rating for chocolate bars with Lecithin: 3.150608519269777\n",
            "Average rating for chocolate bars without Lecithin: 3.2251282051282053\n"
          ]
        }
      ]
    },
    {
      "source": [
        "mean_diff = data_no_L.mean() - data_L.mean()\n",
        "mean_diff"
      ],
      "metadata": {
        "id": "c9ea0fe8-2a82-4438-af73-2178bd24816d",
        "outputId": "1cbaba2f-4d04-44d0-bb9c-cbf24967fef8",
        "colab": {
          "base_uri": "https://localhost:8080/"
        }
      },
      "id": "c9ea0fe8-2a82-4438-af73-2178bd24816d",
      "cell_type": "code",
      "execution_count": null,
      "outputs": [
        {
          "output_type": "execute_result",
          "data": {
            "text/plain": [
              "0.07451968585842828"
            ]
          },
          "metadata": {},
          "execution_count": 21
        }
      ]
    },
    {
      "source": [
        "# A bootstrap analysis of the average rating difference beetwen chocolate bars contains Lechitin and doesn't contain Lechitin\n",
        "boot_mean_diff = []\n",
        "for i in range(5000):\n",
        "    boot_L = data_L.sample(frac=1, replace=True)\n",
        "    boot_no_L = data_no_L.sample(frac=1, replace=True)\n",
        "    boot_mean_diff.append( boot_no_L.mean() - boot_L.mean() )\n",
        "\n",
        "# Calculating a 95% confidence interval from boot_mean_diff \n",
        "confidence_interval = pd.Series(boot_mean_diff).quantile([0.025, 0.975])\n",
        "confidence_interval"
      ],
      "metadata": {
        "id": "4b34e111-880f-45b9-8b85-7bc17d80b50c",
        "outputId": "1241f1e1-53b2-4a08-dfd3-6a9e6fbeb215",
        "colab": {
          "base_uri": "https://localhost:8080/"
        }
      },
      "id": "4b34e111-880f-45b9-8b85-7bc17d80b50c",
      "cell_type": "code",
      "execution_count": null,
      "outputs": [
        {
          "output_type": "execute_result",
          "data": {
            "text/plain": [
              "0.025    0.029794\n",
              "0.975    0.120126\n",
              "dtype: float64"
            ]
          },
          "metadata": {},
          "execution_count": 22
        }
      ]
    },
    {
      "source": [
        "So, chocolate bars without Lechitin have a higher average rating by between 0.03 and 0.1 points, according to a 95% confidence interval."
      ],
      "metadata": {
        "id": "85c9877a-7064-4970-b75f-0a7d81a83af7"
      },
      "id": "85c9877a-7064-4970-b75f-0a7d81a83af7",
      "cell_type": "markdown"
    },
    {
      "source": [
        "- To check whether the difference is statistically significant or not, we can use the **mannwhitneyu**."
      ],
      "metadata": {
        "id": "25aa2cc1-c31e-4b39-8a6d-ae2983c3ee3d"
      },
      "id": "25aa2cc1-c31e-4b39-8a6d-ae2983c3ee3d",
      "cell_type": "markdown"
    },
    {
      "cell_type": "code",
      "source": [
        "from scipy.stats import mannwhitneyu\n",
        "stat, p = mannwhitneyu(data_L, data_no_L, alternative='two-sided')\n",
        "print('stat=%.3f, p=%.3f' % (stat, p))\n",
        "if p > 0.05:\n",
        "\tprint('Probably the same distribution')\n",
        "else:\n",
        "\tprint('Probably different distributions')"
      ],
      "metadata": {
        "colab": {
          "base_uri": "https://localhost:8080/"
        },
        "id": "4nrb40ec8yTB",
        "outputId": "34c33ec2-a8ff-4c53-ba49-425606ca40be"
      },
      "id": "4nrb40ec8yTB",
      "execution_count": null,
      "outputs": [
        {
          "output_type": "stream",
          "name": "stdout",
          "text": [
            "stat=443590.500, p=0.007\n",
            "Probably different distributions\n"
          ]
        }
      ]
    },
    {
      "source": [
        "Based on the results, The p-value of the test comes out to be equal to 0.007, which is lower than the significance level alpha (that is, 0.05). This implies that we can say that the chocolate bars rating with lechitin distribution is statistically different from the average chocolate bars rating without lechitin. "
      ],
      "metadata": {
        "id": "3d42cac9-640c-4aea-a903-08e757a08ebb"
      },
      "id": "3d42cac9-640c-4aea-a903-08e757a08ebb",
      "cell_type": "markdown"
    },
    {
      "source": [
        "- Although statistically significant, the difference is **not practical significant** because the difference in the rating of chocolate bars with Lechitin and without Lechitin does not have a large enough effect to be meaningful in this cases."
      ],
      "metadata": {
        "id": "a11afd8e-a78a-45d0-8bfb-1cb959391657"
      },
      "id": "a11afd8e-a78a-45d0-8bfb-1cb959391657",
      "cell_type": "markdown"
    },
    {
      "source": [
        "## Summary "
      ],
      "metadata": {
        "id": "e8e72374-72fe-4f77-a027-683a65193ce8"
      },
      "id": "e8e72374-72fe-4f77-a027-683a65193ce8",
      "cell_type": "markdown"
    },
    {
      "source": [
        "- High ratings chocolate bars tend to contain a fairly high cocoa percent, around 60% - 85%. In addition, chocolate with a high rating is chocolate whose cocoa beans come from Tobago, China, Sao Tome, and Madagascar. Especially Madagascar because it has a high rating as well as a large number of reviews."
      ],
      "metadata": {
        "id": "313f685e-d0ec-432b-ac44-63f2ee91110b"
      },
      "id": "313f685e-d0ec-432b-ac44-63f2ee91110b",
      "cell_type": "markdown"
    }
  ],
  "metadata": {
    "editor": "DataCamp Workspace",
    "kernelspec": {
      "display_name": "Python 3 (ipykernel)",
      "language": "python",
      "name": "python3"
    },
    "language_info": {
      "codemirror_mode": {
        "name": "ipython",
        "version": 3
      },
      "file_extension": ".py",
      "mimetype": "text/x-python",
      "name": "python",
      "nbconvert_exporter": "python",
      "pygments_lexer": "ipython3",
      "version": "3.8.10"
    },
    "colab": {
      "provenance": []
    }
  },
  "nbformat": 4,
  "nbformat_minor": 5
}